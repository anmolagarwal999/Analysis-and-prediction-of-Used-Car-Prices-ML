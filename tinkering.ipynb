{
 "cells": [
  {
   "cell_type": "markdown",
   "metadata": {},
   "source": [
    "## The Model"
   ]
  },
  {
   "cell_type": "markdown",
   "metadata": {},
   "source": [
    "### Importing the required libraries"
   ]
  },
  {
   "cell_type": "code",
   "execution_count": 2,
   "metadata": {},
   "outputs": [],
   "source": [
    "#importing stuff\n",
    "import pandas as pd\n",
    "import seaborn as sns\n",
    "import numpy as np\n",
    "import matplotlib.pyplot as plt\n",
    "import nltk\n",
    "%config InlineBackend.figure_format = 'retina'\n",
    "%matplotlib inline\n",
    "\n",
    "# plot styles and other settings\n",
    "plt.style.use('seaborn-whitegrid')\n",
    "sns.set_style('whitegrid')\n",
    "pd.set_option('display.max_rows', 60)\n"
   ]
  },
  {
   "cell_type": "markdown",
   "metadata": {},
   "source": [
    "# Dataset and preprocessing\n",
    "For this project, we are using the dataset on used car sales from all\n",
    "over the India.The features available in this dataset are **Mileage, Make, Model, Year, kms travelled,transmisson, fuel type and City.**"
   ]
  },
  {
   "cell_type": "code",
   "execution_count": 3,
   "metadata": {},
   "outputs": [],
   "source": [
    "#specifying the excel file to be used\n",
    "excel_file=\"Data_Train (1).xlsx\"\n",
    "cars = pd.read_excel(excel_file)"
   ]
  },
  {
   "cell_type": "code",
   "execution_count": 4,
   "metadata": {
    "scrolled": true
   },
   "outputs": [
    {
     "data": {
      "text/plain": [
       "(6019, 12)"
      ]
     },
     "execution_count": 4,
     "metadata": {},
     "output_type": "execute_result"
    }
   ],
   "source": [
    "cars.shape"
   ]
  },
  {
   "cell_type": "code",
   "execution_count": 5,
   "metadata": {},
   "outputs": [
    {
     "data": {
      "text/plain": [
       "Name                  object\n",
       "Location              object\n",
       "Year                   int64\n",
       "Kilometers_Driven      int64\n",
       "Fuel_Type             object\n",
       "Transmission          object\n",
       "Owner_Type            object\n",
       "Mileage               object\n",
       "Engine                object\n",
       "Power                 object\n",
       "Seats                float64\n",
       "Price                float64\n",
       "dtype: object"
      ]
     },
     "execution_count": 5,
     "metadata": {},
     "output_type": "execute_result"
    }
   ],
   "source": [
    "cars.dtypes"
   ]
  },
  {
   "cell_type": "markdown",
   "metadata": {},
   "source": [
    "### Renaming columns for ease of use"
   ]
  },
  {
   "cell_type": "code",
   "execution_count": 6,
   "metadata": {},
   "outputs": [],
   "source": [
    "#Setting all columns to lower case\n",
    "cars.columns = [x.lower() for x in cars.columns]\n",
    "cars=cars.rename(columns={\"location\": \"city\",\"kilometers_driven\":\"kms\",\"fuel_type\":\"fuel\",\n",
    "                    \"owner_type\":\"owner\",})"
   ]
  },
  {
   "cell_type": "markdown",
   "metadata": {},
   "source": [
    "### Making two new columns for \"brand\"(make) and model respectively"
   ]
  },
  {
   "cell_type": "code",
   "execution_count": 7,
   "metadata": {},
   "outputs": [],
   "source": [
    "a1=[]\n",
    "a2=[]\n",
    "for s in cars[\"name\"]:\n",
    "    ary=s.split(' ')\n",
    "    a1.append(ary[0])\n",
    "    a2.append(ary[1])    "
   ]
  },
  {
   "cell_type": "code",
   "execution_count": 8,
   "metadata": {},
   "outputs": [],
   "source": [
    "brand=pd.Series(a1)\n",
    "model=pd.Series(a2)"
   ]
  },
  {
   "cell_type": "code",
   "execution_count": 9,
   "metadata": {},
   "outputs": [
    {
     "data": {
      "text/plain": [
       "Maruti           1211\n",
       "Hyundai          1107\n",
       "Honda             608\n",
       "Toyota            411\n",
       "Mercedes-Benz     318\n",
       "Volkswagen        315\n",
       "Ford              300\n",
       "Mahindra          272\n",
       "BMW               267\n",
       "Audi              236\n",
       "Tata              186\n",
       "Skoda             173\n",
       "Renault           145\n",
       "Chevrolet         121\n",
       "Nissan             91\n",
       "Land               60\n",
       "Jaguar             40\n",
       "Fiat               28\n",
       "Mitsubishi         27\n",
       "Mini               26\n",
       "Volvo              21\n",
       "Porsche            18\n",
       "Jeep               15\n",
       "Datsun             13\n",
       "Force               3\n",
       "ISUZU               2\n",
       "Lamborghini         1\n",
       "Ambassador          1\n",
       "Isuzu               1\n",
       "Bentley             1\n",
       "Smart               1\n",
       "dtype: int64"
      ]
     },
     "execution_count": 9,
     "metadata": {},
     "output_type": "execute_result"
    }
   ],
   "source": [
    "brand.value_counts()"
   ]
  },
  {
   "cell_type": "code",
   "execution_count": 10,
   "metadata": {},
   "outputs": [
    {
     "data": {
      "text/plain": [
       "Swift      353\n",
       "City       270\n",
       "i20        247\n",
       "Verna      170\n",
       "Innova     164\n",
       "          ... \n",
       "Clubman      1\n",
       "Fortwo       1\n",
       "1000         1\n",
       "Tiguan       1\n",
       "MUX          1\n",
       "Length: 212, dtype: int64"
      ]
     },
     "execution_count": 10,
     "metadata": {},
     "output_type": "execute_result"
    }
   ],
   "source": [
    "model.value_counts()"
   ]
  },
  {
   "cell_type": "code",
   "execution_count": 11,
   "metadata": {},
   "outputs": [],
   "source": [
    "cars[\"brand\"]=brand\n",
    "cars[\"model\"]=model\n",
    "cars.loc[cars[\"brand\"]==\"Land\",\"brand\"]=\"Land_Rover\"\n",
    "cars.loc[cars[\"brand\"]==\"Isuzu\",\"brand\"]=\"ISUZU\""
   ]
  },
  {
   "cell_type": "code",
   "execution_count": 12,
   "metadata": {},
   "outputs": [
    {
     "data": {
      "text/plain": [
       "212"
      ]
     },
     "execution_count": 12,
     "metadata": {},
     "output_type": "execute_result"
    }
   ],
   "source": [
    "len(model.value_counts())"
   ]
  },
  {
   "cell_type": "code",
   "execution_count": 13,
   "metadata": {},
   "outputs": [
    {
     "data": {
      "text/plain": [
       "pandas.core.series.Series"
      ]
     },
     "execution_count": 13,
     "metadata": {},
     "output_type": "execute_result"
    }
   ],
   "source": [
    "type(brand)"
   ]
  },
  {
   "cell_type": "code",
   "execution_count": 14,
   "metadata": {},
   "outputs": [],
   "source": [
    "arr=list(brand.unique())"
   ]
  },
  {
   "cell_type": "code",
   "execution_count": 15,
   "metadata": {},
   "outputs": [],
   "source": [
    "arr.remove(\"Isuzu\")"
   ]
  },
  {
   "cell_type": "code",
   "execution_count": 16,
   "metadata": {
    "scrolled": true
   },
   "outputs": [
    {
     "name": "stdout",
     "output_type": "stream",
     "text": [
      "['Maruti', 'Hyundai', 'Honda', 'Audi', 'Nissan', 'Toyota', 'Volkswagen', 'Tata', 'Land', 'Mitsubishi', 'Renault', 'Mercedes-Benz', 'BMW', 'Mahindra', 'Ford', 'Porsche', 'Datsun', 'Jaguar', 'Volvo', 'Chevrolet', 'Skoda', 'Mini', 'Fiat', 'Jeep', 'Smart', 'Ambassador', 'ISUZU', 'Force', 'Bentley', 'Lamborghini']\n"
     ]
    }
   ],
   "source": [
    "print(arr)"
   ]
  },
  {
   "cell_type": "code",
   "execution_count": 17,
   "metadata": {},
   "outputs": [],
   "source": [
    "arr2=list(model.unique())"
   ]
  },
  {
   "cell_type": "code",
   "execution_count": 18,
   "metadata": {
    "scrolled": true
   },
   "outputs": [
    {
     "name": "stdout",
     "output_type": "stream",
     "text": [
      "['Wagon', 'Creta', 'Jazz', 'Ertiga', 'A4', 'EON', 'Micra', 'Innova', 'Vento', 'Indica', 'Ciaz', 'City', 'Swift', 'Rover', 'Pajero', 'Amaze', 'Duster', 'New', '3', 'S', 'A6', 'i20', 'Alto', 'WRV', 'Corolla', 'Ssangyong', 'Vitara', 'KUV', 'M-Class', 'Polo', 'Nano', 'Elantra', 'Xcent', 'Thar', 'Grand', 'KWID', 'i10', 'X-Trail', 'Zen', 'Figo', 'C-Class', 'Cayenne', 'XUV500', 'Terrano', 'Brio', 'Fiesta', 'Santro', 'Zest', 'Ritz', '5', 'Fortuner', 'Ecosport', 'Verna', 'GO', 'Omni', 'Etios', 'XF', 'Eeco', 'Civic', 'V40', 'B', 'Scorpio', 'CR-V', 'SLC', '1', 'Beat', 'Rapid', 'RS5', 'Superb', 'X5', 'GLC', 'Countryman', 'Optra', 'Lodgy', 'E-Class', 'Baleno', 'Laura', 'NuvoSport', 'Fabia', 'Indigo', 'Q3', 'Octavia', 'A8', 'Verito', 'Cooper', 'Santa', 'X1', 'Accent', 'Tucson', 'GLE', 'A-Star', 'Grande', 'X3', 'EcoSport', 'Q7', 'Jetta', 'GLA', 'Celerio', 'Sumo', 'Accord', '6', 'Manza', 'Spark', 'Clubman', 'Teana', '800', 'BRV', 'XE', 'Xenon', 'A3', 'GL-Class', 'BR-V', 'S80', 'Captur', 'Enjoy', 'Bolero', 'Q5', 'Cedia', 'S-Cross', 'Yeti', 'Endeavour', 'GLS', 'A', 'SX4', 'Camry', 'Mobilio', 'Linea', 'TT', 'Renault', 'Compass', 'Ikon', 'Sail', 'Quanto', 'Aveo', 'Xylo', 'Esteem', 'Safari', 'Ignis', 'XJ', 'Sunny', 'SLK-Class', 'Passat', 'Dzire', 'Cruze', 'Koleos', 'Qualis', 'Ameo', 'redi-GO', 'Fortwo', 'Outlander', 'Cayman', 'CLA', 'XC60', 'Boxster', 'XUV300', 'Hexa', 'Tiago', '7', 'Avventura', 'Tigor', 'S60', 'Classic', 'Beetle', 'Petra', 'Getz', 'A7', 'Elite', 'Aspire', 'Tiguan', 'Captiva', 'Punto', 'TUV', 'X6', 'Bolt', 'Evalia', 'Scala', 'Jeep', 'Sonata', 'Freestyle', 'Logan', 'Tavera', 'Estilo', 'XC90', 'Pulse', 'Montero', 'Panamera', 'CrossPolo', 'Fluence', 'Venture', 'Nexon', 'MUX', 'Platinum', 'R-Class', 'CLS-Class', 'D-MAX', 'S-Class', 'Lancer', 'Redi', 'E', 'Mustang', 'Fusion', 'Siena', '1000', 'SL-Class', 'Z4', 'Prius', 'One', 'Versa', 'WR-V', 'Continental', 'Gallardo', 'F']\n"
     ]
    }
   ],
   "source": [
    "print(arr2)"
   ]
  },
  {
   "cell_type": "code",
   "execution_count": 19,
   "metadata": {},
   "outputs": [],
   "source": [
    "info={}\n",
    "for i in range(len(cars)):\n",
    "    brand_curr=cars[\"brand\"][i]\n",
    "    model_curr=cars[\"model\"][i]\n",
    "    info[model_curr]=brand_curr"
   ]
  },
  {
   "cell_type": "code",
   "execution_count": 20,
   "metadata": {},
   "outputs": [
    {
     "data": {
      "text/plain": [
       "{'Wagon': 'Maruti',\n",
       " 'Creta': 'Hyundai',\n",
       " 'Jazz': 'Honda',\n",
       " 'Ertiga': 'Maruti',\n",
       " 'A4': 'Audi',\n",
       " 'EON': 'Hyundai',\n",
       " 'Micra': 'Nissan',\n",
       " 'Innova': 'Toyota',\n",
       " 'Vento': 'Volkswagen',\n",
       " 'Indica': 'Tata',\n",
       " 'Ciaz': 'Maruti',\n",
       " 'City': 'Honda',\n",
       " 'Swift': 'Maruti',\n",
       " 'Rover': 'Land_Rover',\n",
       " 'Pajero': 'Mitsubishi',\n",
       " 'Amaze': 'Honda',\n",
       " 'Duster': 'Renault',\n",
       " 'New': 'Tata',\n",
       " '3': 'BMW',\n",
       " 'S': 'Mercedes-Benz',\n",
       " 'A6': 'Audi',\n",
       " 'i20': 'Hyundai',\n",
       " 'Alto': 'Maruti',\n",
       " 'WRV': 'Honda',\n",
       " 'Corolla': 'Toyota',\n",
       " 'Ssangyong': 'Mahindra',\n",
       " 'Vitara': 'Maruti',\n",
       " 'KUV': 'Mahindra',\n",
       " 'M-Class': 'Mercedes-Benz',\n",
       " 'Polo': 'Volkswagen',\n",
       " 'Nano': 'Tata',\n",
       " 'Elantra': 'Hyundai',\n",
       " 'Xcent': 'Hyundai',\n",
       " 'Thar': 'Mahindra',\n",
       " 'Grand': 'Hyundai',\n",
       " 'KWID': 'Renault',\n",
       " 'i10': 'Hyundai',\n",
       " 'X-Trail': 'Nissan',\n",
       " 'Zen': 'Maruti',\n",
       " 'Figo': 'Ford',\n",
       " 'C-Class': 'Mercedes-Benz',\n",
       " 'Cayenne': 'Porsche',\n",
       " 'XUV500': 'Mahindra',\n",
       " 'Terrano': 'Nissan',\n",
       " 'Brio': 'Honda',\n",
       " 'Fiesta': 'Ford',\n",
       " 'Santro': 'Hyundai',\n",
       " 'Zest': 'Tata',\n",
       " 'Ritz': 'Maruti',\n",
       " '5': 'BMW',\n",
       " 'Fortuner': 'Toyota',\n",
       " 'Ecosport': 'Ford',\n",
       " 'Verna': 'Hyundai',\n",
       " 'GO': 'Datsun',\n",
       " 'Omni': 'Maruti',\n",
       " 'Etios': 'Toyota',\n",
       " 'XF': 'Jaguar',\n",
       " 'Eeco': 'Maruti',\n",
       " 'Civic': 'Honda',\n",
       " 'V40': 'Volvo',\n",
       " 'B': 'Mercedes-Benz',\n",
       " 'Scorpio': 'Mahindra',\n",
       " 'CR-V': 'Honda',\n",
       " 'SLC': 'Mercedes-Benz',\n",
       " '1': 'BMW',\n",
       " 'Beat': 'Chevrolet',\n",
       " 'Rapid': 'Skoda',\n",
       " 'RS5': 'Audi',\n",
       " 'Superb': 'Skoda',\n",
       " 'X5': 'BMW',\n",
       " 'GLC': 'Mercedes-Benz',\n",
       " 'Countryman': 'Mini',\n",
       " 'Optra': 'Chevrolet',\n",
       " 'Lodgy': 'Renault',\n",
       " 'E-Class': 'Mercedes-Benz',\n",
       " 'Baleno': 'Maruti',\n",
       " 'Laura': 'Skoda',\n",
       " 'NuvoSport': 'Mahindra',\n",
       " 'Fabia': 'Skoda',\n",
       " 'Indigo': 'Tata',\n",
       " 'Q3': 'Audi',\n",
       " 'Octavia': 'Skoda',\n",
       " 'A8': 'Audi',\n",
       " 'Verito': 'Mahindra',\n",
       " 'Cooper': 'Mini',\n",
       " 'Santa': 'Hyundai',\n",
       " 'X1': 'BMW',\n",
       " 'Accent': 'Hyundai',\n",
       " 'Tucson': 'Hyundai',\n",
       " 'GLE': 'Mercedes-Benz',\n",
       " 'A-Star': 'Maruti',\n",
       " 'Grande': 'Fiat',\n",
       " 'X3': 'BMW',\n",
       " 'EcoSport': 'Ford',\n",
       " 'Q7': 'Audi',\n",
       " 'Jetta': 'Volkswagen',\n",
       " 'GLA': 'Mercedes-Benz',\n",
       " 'Celerio': 'Maruti',\n",
       " 'Sumo': 'Tata',\n",
       " 'Accord': 'Honda',\n",
       " '6': 'BMW',\n",
       " 'Manza': 'Tata',\n",
       " 'Spark': 'Chevrolet',\n",
       " 'Clubman': 'Mini',\n",
       " 'Teana': 'Nissan',\n",
       " '800': 'Maruti',\n",
       " 'BRV': 'Honda',\n",
       " 'XE': 'Jaguar',\n",
       " 'Xenon': 'Tata',\n",
       " 'A3': 'Audi',\n",
       " 'GL-Class': 'Mercedes-Benz',\n",
       " 'BR-V': 'Honda',\n",
       " 'S80': 'Volvo',\n",
       " 'Captur': 'Renault',\n",
       " 'Enjoy': 'Chevrolet',\n",
       " 'Bolero': 'Mahindra',\n",
       " 'Q5': 'Audi',\n",
       " 'Cedia': 'Mitsubishi',\n",
       " 'S-Cross': 'Maruti',\n",
       " 'Yeti': 'Skoda',\n",
       " 'Endeavour': 'Ford',\n",
       " 'GLS': 'Mercedes-Benz',\n",
       " 'A': 'Mercedes-Benz',\n",
       " 'SX4': 'Maruti',\n",
       " 'Camry': 'Toyota',\n",
       " 'Mobilio': 'Honda',\n",
       " 'Linea': 'Fiat',\n",
       " 'TT': 'Audi',\n",
       " 'Renault': 'Mahindra',\n",
       " 'Compass': 'Jeep',\n",
       " 'Ikon': 'Ford',\n",
       " 'Sail': 'Chevrolet',\n",
       " 'Quanto': 'Mahindra',\n",
       " 'Aveo': 'Chevrolet',\n",
       " 'Xylo': 'Mahindra',\n",
       " 'Esteem': 'Maruti',\n",
       " 'Safari': 'Tata',\n",
       " 'Ignis': 'Maruti',\n",
       " 'XJ': 'Jaguar',\n",
       " 'Sunny': 'Nissan',\n",
       " 'SLK-Class': 'Mercedes-Benz',\n",
       " 'Passat': 'Volkswagen',\n",
       " 'Dzire': 'Maruti',\n",
       " 'Cruze': 'Chevrolet',\n",
       " 'Koleos': 'Renault',\n",
       " 'Qualis': 'Toyota',\n",
       " 'Ameo': 'Volkswagen',\n",
       " 'redi-GO': 'Datsun',\n",
       " 'Fortwo': 'Smart',\n",
       " 'Outlander': 'Mitsubishi',\n",
       " 'Cayman': 'Porsche',\n",
       " 'CLA': 'Mercedes-Benz',\n",
       " 'XC60': 'Volvo',\n",
       " 'Boxster': 'Porsche',\n",
       " 'XUV300': 'Mahindra',\n",
       " 'Hexa': 'Tata',\n",
       " 'Tiago': 'Tata',\n",
       " '7': 'BMW',\n",
       " 'Avventura': 'Fiat',\n",
       " 'Tigor': 'Tata',\n",
       " 'S60': 'Volvo',\n",
       " 'Classic': 'Ford',\n",
       " 'Beetle': 'Volkswagen',\n",
       " 'Petra': 'Fiat',\n",
       " 'Getz': 'Hyundai',\n",
       " 'A7': 'Audi',\n",
       " 'Elite': 'Hyundai',\n",
       " 'Aspire': 'Ford',\n",
       " 'Tiguan': 'Volkswagen',\n",
       " 'Captiva': 'Chevrolet',\n",
       " 'Punto': 'Fiat',\n",
       " 'TUV': 'Mahindra',\n",
       " 'X6': 'BMW',\n",
       " 'Bolt': 'Tata',\n",
       " 'Evalia': 'Nissan',\n",
       " 'Scala': 'Renault',\n",
       " 'Jeep': 'Mahindra',\n",
       " 'Sonata': 'Hyundai',\n",
       " 'Freestyle': 'Ford',\n",
       " 'Logan': 'Mahindra',\n",
       " 'Tavera': 'Chevrolet',\n",
       " 'Estilo': 'Maruti',\n",
       " 'XC90': 'Volvo',\n",
       " 'Pulse': 'Renault',\n",
       " 'Montero': 'Mitsubishi',\n",
       " 'Panamera': 'Porsche',\n",
       " 'CrossPolo': 'Volkswagen',\n",
       " 'Fluence': 'Renault',\n",
       " 'Venture': 'Tata',\n",
       " 'Nexon': 'Tata',\n",
       " 'MUX': 'ISUZU',\n",
       " 'Platinum': 'Toyota',\n",
       " 'R-Class': 'Mercedes-Benz',\n",
       " 'CLS-Class': 'Mercedes-Benz',\n",
       " 'D-MAX': 'ISUZU',\n",
       " 'S-Class': 'Mercedes-Benz',\n",
       " 'Lancer': 'Mitsubishi',\n",
       " 'Redi': 'Datsun',\n",
       " 'E': 'Mahindra',\n",
       " 'Mustang': 'Ford',\n",
       " 'Fusion': 'Ford',\n",
       " 'Siena': 'Fiat',\n",
       " '1000': 'Maruti',\n",
       " 'SL-Class': 'Mercedes-Benz',\n",
       " 'Z4': 'BMW',\n",
       " 'Prius': 'Toyota',\n",
       " 'One': 'Force',\n",
       " 'Versa': 'Maruti',\n",
       " 'WR-V': 'Honda',\n",
       " 'Continental': 'Bentley',\n",
       " 'Gallardo': 'Lamborghini',\n",
       " 'F': 'Jaguar'}"
      ]
     },
     "execution_count": 20,
     "metadata": {},
     "output_type": "execute_result"
    }
   ],
   "source": [
    "info"
   ]
  },
  {
   "cell_type": "code",
   "execution_count": 21,
   "metadata": {},
   "outputs": [
    {
     "data": {
      "text/plain": [
       "212"
      ]
     },
     "execution_count": 21,
     "metadata": {},
     "output_type": "execute_result"
    }
   ],
   "source": [
    "len(info)"
   ]
  },
  {
   "cell_type": "code",
   "execution_count": 22,
   "metadata": {
    "scrolled": true
   },
   "outputs": [
    {
     "data": {
      "text/plain": [
       "Index(['name', 'city', 'year', 'kms', 'fuel', 'transmission', 'owner',\n",
       "       'mileage', 'engine', 'power', 'seats', 'price', 'brand', 'model'],\n",
       "      dtype='object')"
      ]
     },
     "execution_count": 22,
     "metadata": {},
     "output_type": "execute_result"
    }
   ],
   "source": [
    "cars.columns"
   ]
  },
  {
   "cell_type": "code",
   "execution_count": 23,
   "metadata": {},
   "outputs": [
    {
     "data": {
      "text/plain": [
       "array(['CNG', 'Diesel', 'Petrol', 'LPG', 'Electric'], dtype=object)"
      ]
     },
     "execution_count": 23,
     "metadata": {},
     "output_type": "execute_result"
    }
   ],
   "source": [
    "cars['fuel'].unique()"
   ]
  },
  {
   "cell_type": "code",
   "execution_count": 24,
   "metadata": {},
   "outputs": [
    {
     "data": {
      "text/plain": [
       "array(['Manual', 'Automatic'], dtype=object)"
      ]
     },
     "execution_count": 24,
     "metadata": {},
     "output_type": "execute_result"
    }
   ],
   "source": [
    "cars['transmission'].unique()"
   ]
  },
  {
   "cell_type": "code",
   "execution_count": 25,
   "metadata": {},
   "outputs": [
    {
     "data": {
      "text/plain": [
       "array(['First', 'Second', 'Fourth & Above', 'Third'], dtype=object)"
      ]
     },
     "execution_count": 25,
     "metadata": {},
     "output_type": "execute_result"
    }
   ],
   "source": [
    "cars['owner'].unique()"
   ]
  },
  {
   "cell_type": "code",
   "execution_count": 26,
   "metadata": {
    "scrolled": false
   },
   "outputs": [
    {
     "data": {
      "text/plain": [
       "array(['CNG', 'Diesel', 'Petrol', 'LPG', 'Electric'], dtype=object)"
      ]
     },
     "execution_count": 26,
     "metadata": {},
     "output_type": "execute_result"
    }
   ],
   "source": [
    "cars['fuel'].unique()"
   ]
  },
  {
   "cell_type": "code",
   "execution_count": 27,
   "metadata": {},
   "outputs": [
    {
     "data": {
      "text/plain": [
       "array(['CNG', 'Diesel', 'Petrol', 'LPG', 'Electric'], dtype=object)"
      ]
     },
     "execution_count": 27,
     "metadata": {},
     "output_type": "execute_result"
    }
   ],
   "source": [
    "cars['fuel'].unique()"
   ]
  },
  {
   "cell_type": "code",
   "execution_count": null,
   "metadata": {},
   "outputs": [],
   "source": []
  },
  {
   "cell_type": "markdown",
   "metadata": {},
   "source": [
    "> ***The next order of business was to find out the NULL values and the outliers and to deal with them.***"
   ]
  },
  {
   "cell_type": "code",
   "execution_count": 80,
   "metadata": {
    "scrolled": true
   },
   "outputs": [
    {
     "data": {
      "text/plain": [
       "name             0\n",
       "city             0\n",
       "year             0\n",
       "kms              0\n",
       "fuel             0\n",
       "transmission     0\n",
       "owner            0\n",
       "mileage          2\n",
       "engine          36\n",
       "power           36\n",
       "seats           42\n",
       "price            0\n",
       "brand            0\n",
       "model            0\n",
       "dtype: int64"
      ]
     },
     "execution_count": 80,
     "metadata": {},
     "output_type": "execute_result"
    }
   ],
   "source": [
    "cars.isnull().sum()"
   ]
  },
  {
   "cell_type": "markdown",
   "metadata": {},
   "source": [
    "> **The number of cars for whom specific data is missing is not too high. Infact, manual plugging of these values was possible in a reasonable amount of time. Hence, we tried to fill the data. Most of this data was derived from [\"CarDekho.com\"](www.cardekho.com)**"
   ]
  },
  {
   "cell_type": "markdown",
   "metadata": {},
   "source": [
    "###### Displaying rows which have even a single null value"
   ]
  },
  {
   "cell_type": "code",
   "execution_count": 81,
   "metadata": {},
   "outputs": [
    {
     "data": {
      "text/html": [
       "<div>\n",
       "<style scoped>\n",
       "    .dataframe tbody tr th:only-of-type {\n",
       "        vertical-align: middle;\n",
       "    }\n",
       "\n",
       "    .dataframe tbody tr th {\n",
       "        vertical-align: top;\n",
       "    }\n",
       "\n",
       "    .dataframe thead th {\n",
       "        text-align: right;\n",
       "    }\n",
       "</style>\n",
       "<table border=\"1\" class=\"dataframe\">\n",
       "  <thead>\n",
       "    <tr style=\"text-align: right;\">\n",
       "      <th></th>\n",
       "      <th>name</th>\n",
       "      <th>city</th>\n",
       "      <th>year</th>\n",
       "      <th>kms</th>\n",
       "      <th>fuel</th>\n",
       "      <th>transmission</th>\n",
       "      <th>owner</th>\n",
       "      <th>mileage</th>\n",
       "      <th>engine</th>\n",
       "      <th>power</th>\n",
       "      <th>seats</th>\n",
       "      <th>price</th>\n",
       "      <th>brand</th>\n",
       "      <th>model</th>\n",
       "    </tr>\n",
       "  </thead>\n",
       "  <tbody>\n",
       "    <tr>\n",
       "      <th>194</th>\n",
       "      <td>Honda City 1.5 GXI</td>\n",
       "      <td>Ahmedabad</td>\n",
       "      <td>2007</td>\n",
       "      <td>60006</td>\n",
       "      <td>Petrol</td>\n",
       "      <td>Manual</td>\n",
       "      <td>First</td>\n",
       "      <td>0.0 kmpl</td>\n",
       "      <td>NaN</td>\n",
       "      <td>NaN</td>\n",
       "      <td>NaN</td>\n",
       "      <td>2.95</td>\n",
       "      <td>Honda</td>\n",
       "      <td>City</td>\n",
       "    </tr>\n",
       "    <tr>\n",
       "      <th>208</th>\n",
       "      <td>Maruti Swift 1.3 VXi</td>\n",
       "      <td>Kolkata</td>\n",
       "      <td>2010</td>\n",
       "      <td>42001</td>\n",
       "      <td>Petrol</td>\n",
       "      <td>Manual</td>\n",
       "      <td>First</td>\n",
       "      <td>16.1 kmpl</td>\n",
       "      <td>NaN</td>\n",
       "      <td>NaN</td>\n",
       "      <td>NaN</td>\n",
       "      <td>2.11</td>\n",
       "      <td>Maruti</td>\n",
       "      <td>Swift</td>\n",
       "    </tr>\n",
       "    <tr>\n",
       "      <th>229</th>\n",
       "      <td>Ford Figo Diesel</td>\n",
       "      <td>Bangalore</td>\n",
       "      <td>2015</td>\n",
       "      <td>70436</td>\n",
       "      <td>Diesel</td>\n",
       "      <td>Manual</td>\n",
       "      <td>First</td>\n",
       "      <td>0.0 kmpl</td>\n",
       "      <td>1498 CC</td>\n",
       "      <td>99 bhp</td>\n",
       "      <td>NaN</td>\n",
       "      <td>3.60</td>\n",
       "      <td>Ford</td>\n",
       "      <td>Figo</td>\n",
       "    </tr>\n",
       "    <tr>\n",
       "      <th>733</th>\n",
       "      <td>Maruti Swift 1.3 VXi</td>\n",
       "      <td>Chennai</td>\n",
       "      <td>2006</td>\n",
       "      <td>97800</td>\n",
       "      <td>Petrol</td>\n",
       "      <td>Manual</td>\n",
       "      <td>Third</td>\n",
       "      <td>16.1 kmpl</td>\n",
       "      <td>NaN</td>\n",
       "      <td>NaN</td>\n",
       "      <td>NaN</td>\n",
       "      <td>1.75</td>\n",
       "      <td>Maruti</td>\n",
       "      <td>Swift</td>\n",
       "    </tr>\n",
       "    <tr>\n",
       "      <th>749</th>\n",
       "      <td>Land Rover Range Rover 3.0 D</td>\n",
       "      <td>Mumbai</td>\n",
       "      <td>2008</td>\n",
       "      <td>55001</td>\n",
       "      <td>Diesel</td>\n",
       "      <td>Automatic</td>\n",
       "      <td>Second</td>\n",
       "      <td>0.0 kmpl</td>\n",
       "      <td>NaN</td>\n",
       "      <td>NaN</td>\n",
       "      <td>NaN</td>\n",
       "      <td>26.50</td>\n",
       "      <td>Land_Rover</td>\n",
       "      <td>Rover</td>\n",
       "    </tr>\n",
       "  </tbody>\n",
       "</table>\n",
       "</div>"
      ],
      "text/plain": [
       "                             name       city  year    kms    fuel  \\\n",
       "194            Honda City 1.5 GXI  Ahmedabad  2007  60006  Petrol   \n",
       "208          Maruti Swift 1.3 VXi    Kolkata  2010  42001  Petrol   \n",
       "229              Ford Figo Diesel  Bangalore  2015  70436  Diesel   \n",
       "733          Maruti Swift 1.3 VXi    Chennai  2006  97800  Petrol   \n",
       "749  Land Rover Range Rover 3.0 D     Mumbai  2008  55001  Diesel   \n",
       "\n",
       "    transmission   owner    mileage   engine   power  seats  price  \\\n",
       "194       Manual   First   0.0 kmpl      NaN     NaN    NaN   2.95   \n",
       "208       Manual   First  16.1 kmpl      NaN     NaN    NaN   2.11   \n",
       "229       Manual   First   0.0 kmpl  1498 CC  99 bhp    NaN   3.60   \n",
       "733       Manual   Third  16.1 kmpl      NaN     NaN    NaN   1.75   \n",
       "749    Automatic  Second   0.0 kmpl      NaN     NaN    NaN  26.50   \n",
       "\n",
       "          brand  model  \n",
       "194       Honda   City  \n",
       "208      Maruti  Swift  \n",
       "229        Ford   Figo  \n",
       "733      Maruti  Swift  \n",
       "749  Land_Rover  Rover  "
      ]
     },
     "execution_count": 81,
     "metadata": {},
     "output_type": "execute_result"
    }
   ],
   "source": [
    "cars[cars.isnull().any(axis=1)].head()"
   ]
  },
  {
   "cell_type": "markdown",
   "metadata": {},
   "source": [
    "___"
   ]
  },
  {
   "cell_type": "markdown",
   "metadata": {},
   "source": [
    "# Preprocessing of the data\n",
    "In order to get a better understanding of the data, we plotted some curves to understand the importance of the parameters.\n",
    "We noticed that the dataset had several missing values and some outliers as well, primarily due to large price sensitivity of used cars. **Generally, the \"mechanical health\" of a car is not only dependent on the technical specs, but also on how the car has been maintained by the previous owners. Also, accident history and condition can have a significant effect on the\n",
    "car’s price.** Since we did not have access to vehicle history and condition(these generally being non-quantifiable characteristics), we had to do with the available parameters."
   ]
  },
  {
   "cell_type": "markdown",
   "metadata": {},
   "source": [
    "## Dealing with anomalous values in \"engine\" column"
   ]
  },
  {
   "cell_type": "code",
   "execution_count": 82,
   "metadata": {},
   "outputs": [
    {
     "data": {
      "text/plain": [
       "36"
      ]
     },
     "execution_count": 82,
     "metadata": {},
     "output_type": "execute_result"
    }
   ],
   "source": [
    "len(cars[cars['engine'].isnull()])"
   ]
  },
  {
   "cell_type": "code",
   "execution_count": 83,
   "metadata": {},
   "outputs": [
    {
     "data": {
      "text/html": [
       "<div>\n",
       "<style scoped>\n",
       "    .dataframe tbody tr th:only-of-type {\n",
       "        vertical-align: middle;\n",
       "    }\n",
       "\n",
       "    .dataframe tbody tr th {\n",
       "        vertical-align: top;\n",
       "    }\n",
       "\n",
       "    .dataframe thead th {\n",
       "        text-align: right;\n",
       "    }\n",
       "</style>\n",
       "<table border=\"1\" class=\"dataframe\">\n",
       "  <thead>\n",
       "    <tr style=\"text-align: right;\">\n",
       "      <th></th>\n",
       "      <th>name</th>\n",
       "      <th>city</th>\n",
       "      <th>year</th>\n",
       "      <th>kms</th>\n",
       "      <th>fuel</th>\n",
       "      <th>transmission</th>\n",
       "      <th>owner</th>\n",
       "      <th>mileage</th>\n",
       "      <th>engine</th>\n",
       "      <th>power</th>\n",
       "      <th>seats</th>\n",
       "      <th>price</th>\n",
       "      <th>brand</th>\n",
       "      <th>model</th>\n",
       "    </tr>\n",
       "  </thead>\n",
       "  <tbody>\n",
       "    <tr>\n",
       "      <th>194</th>\n",
       "      <td>Honda City 1.5 GXI</td>\n",
       "      <td>Ahmedabad</td>\n",
       "      <td>2007</td>\n",
       "      <td>60006</td>\n",
       "      <td>Petrol</td>\n",
       "      <td>Manual</td>\n",
       "      <td>First</td>\n",
       "      <td>0.0 kmpl</td>\n",
       "      <td>NaN</td>\n",
       "      <td>NaN</td>\n",
       "      <td>NaN</td>\n",
       "      <td>2.95</td>\n",
       "      <td>Honda</td>\n",
       "      <td>City</td>\n",
       "    </tr>\n",
       "    <tr>\n",
       "      <th>208</th>\n",
       "      <td>Maruti Swift 1.3 VXi</td>\n",
       "      <td>Kolkata</td>\n",
       "      <td>2010</td>\n",
       "      <td>42001</td>\n",
       "      <td>Petrol</td>\n",
       "      <td>Manual</td>\n",
       "      <td>First</td>\n",
       "      <td>16.1 kmpl</td>\n",
       "      <td>NaN</td>\n",
       "      <td>NaN</td>\n",
       "      <td>NaN</td>\n",
       "      <td>2.11</td>\n",
       "      <td>Maruti</td>\n",
       "      <td>Swift</td>\n",
       "    </tr>\n",
       "    <tr>\n",
       "      <th>733</th>\n",
       "      <td>Maruti Swift 1.3 VXi</td>\n",
       "      <td>Chennai</td>\n",
       "      <td>2006</td>\n",
       "      <td>97800</td>\n",
       "      <td>Petrol</td>\n",
       "      <td>Manual</td>\n",
       "      <td>Third</td>\n",
       "      <td>16.1 kmpl</td>\n",
       "      <td>NaN</td>\n",
       "      <td>NaN</td>\n",
       "      <td>NaN</td>\n",
       "      <td>1.75</td>\n",
       "      <td>Maruti</td>\n",
       "      <td>Swift</td>\n",
       "    </tr>\n",
       "    <tr>\n",
       "      <th>749</th>\n",
       "      <td>Land Rover Range Rover 3.0 D</td>\n",
       "      <td>Mumbai</td>\n",
       "      <td>2008</td>\n",
       "      <td>55001</td>\n",
       "      <td>Diesel</td>\n",
       "      <td>Automatic</td>\n",
       "      <td>Second</td>\n",
       "      <td>0.0 kmpl</td>\n",
       "      <td>NaN</td>\n",
       "      <td>NaN</td>\n",
       "      <td>NaN</td>\n",
       "      <td>26.50</td>\n",
       "      <td>Land_Rover</td>\n",
       "      <td>Rover</td>\n",
       "    </tr>\n",
       "    <tr>\n",
       "      <th>1294</th>\n",
       "      <td>Honda City 1.3 DX</td>\n",
       "      <td>Delhi</td>\n",
       "      <td>2009</td>\n",
       "      <td>55005</td>\n",
       "      <td>Petrol</td>\n",
       "      <td>Manual</td>\n",
       "      <td>First</td>\n",
       "      <td>12.8 kmpl</td>\n",
       "      <td>NaN</td>\n",
       "      <td>NaN</td>\n",
       "      <td>NaN</td>\n",
       "      <td>3.20</td>\n",
       "      <td>Honda</td>\n",
       "      <td>City</td>\n",
       "    </tr>\n",
       "  </tbody>\n",
       "</table>\n",
       "</div>"
      ],
      "text/plain": [
       "                              name       city  year    kms    fuel  \\\n",
       "194             Honda City 1.5 GXI  Ahmedabad  2007  60006  Petrol   \n",
       "208           Maruti Swift 1.3 VXi    Kolkata  2010  42001  Petrol   \n",
       "733           Maruti Swift 1.3 VXi    Chennai  2006  97800  Petrol   \n",
       "749   Land Rover Range Rover 3.0 D     Mumbai  2008  55001  Diesel   \n",
       "1294             Honda City 1.3 DX      Delhi  2009  55005  Petrol   \n",
       "\n",
       "     transmission   owner    mileage engine power  seats  price       brand  \\\n",
       "194        Manual   First   0.0 kmpl    NaN   NaN    NaN   2.95       Honda   \n",
       "208        Manual   First  16.1 kmpl    NaN   NaN    NaN   2.11      Maruti   \n",
       "733        Manual   Third  16.1 kmpl    NaN   NaN    NaN   1.75      Maruti   \n",
       "749     Automatic  Second   0.0 kmpl    NaN   NaN    NaN  26.50  Land_Rover   \n",
       "1294       Manual   First  12.8 kmpl    NaN   NaN    NaN   3.20       Honda   \n",
       "\n",
       "      model  \n",
       "194    City  \n",
       "208   Swift  \n",
       "733   Swift  \n",
       "749   Rover  \n",
       "1294   City  "
      ]
     },
     "execution_count": 83,
     "metadata": {},
     "output_type": "execute_result"
    }
   ],
   "source": [
    "cars[cars['engine'].isnull()].head()"
   ]
  },
  {
   "cell_type": "markdown",
   "metadata": {},
   "source": [
    "##### Manual handling of null values ( data derived from cardekho.com)"
   ]
  },
  {
   "cell_type": "code",
   "execution_count": 84,
   "metadata": {},
   "outputs": [],
   "source": [
    "#cars.loc[(cars['model'] == 'New') & (cars['brand'] == 'Mercedes-Benz'), 'model'] = 'C-Class'\n",
    "#cars[cars['engine'].isnull()].loc[cars[\"model\"]==\"Swift\",\"engine\"]=1300\n",
    "le=cars[\"engine\"].isnull()\n",
    "#print(le)\n",
    "for i in range(len(cars)):\n",
    "    if le[i]==True:\n",
    "        if cars[\"model\"][i]==\"Swift\":\n",
    "            cars.loc[i,\"engine\"]=1300\n",
    "        if cars[\"model\"][i]==\"City\":\n",
    "            cars.loc[i,\"engine\"]=1500\n",
    "        if cars[\"model\"][i]==\"Punto\":\n",
    "            cars.loc[i,\"engine\"]=1300\n",
    "        if cars[\"model\"][i]==\"5\":\n",
    "            cars.loc[i,\"engine\"]=2000\n",
    "        if cars[\"model\"][i]==\"Rover\":\n",
    "            cars.loc[i,\"engine\"]=3000\n",
    "        if cars[\"model\"][i]==\"Santro\":\n",
    "            cars.loc[i,\"engine\"]=1086\n",
    "        if cars[\"model\"][i]==\"Etios\":\n",
    "            cars.loc[i,\"engine\"]=1197\n",
    "        if cars[\"model\"][i]==\"Wagon\" or cars[\"model\"][i]==\"Wagon-R\":\n",
    "            cars.loc[i,\"engine\"]=998\n",
    "        if cars[\"model\"][i]==\"CR-V\":\n",
    "            cars.loc[i,\"engine\"]=2354\n",
    "        if cars[\"model\"][i]==\"Jazz\":\n",
    "            cars.loc[i,\"engine\"]=1198"
   ]
  },
  {
   "cell_type": "code",
   "execution_count": 85,
   "metadata": {
    "scrolled": true
   },
   "outputs": [],
   "source": [
    "for i in range(len(cars)):\n",
    "    st=cars.loc[i,\"engine\"]\n",
    "    #print(i)\n",
    "    a=4\n",
    "    b=2.0\n",
    "    if type(st)!=type(a) and type(st)!=type(b):\n",
    "    #print(st)\n",
    "    #st=str(st)\n",
    "        le=\"\"\n",
    "        for j in st:\n",
    "            if j==' ':\n",
    "                break\n",
    "            le=le+j\n",
    "        cars.loc[i,\"engine\"]=le"
   ]
  },
  {
   "cell_type": "code",
   "execution_count": 86,
   "metadata": {},
   "outputs": [],
   "source": [
    "cars[\"engine\"]=pd.to_numeric(cars[\"engine\"])"
   ]
  },
  {
   "cell_type": "code",
   "execution_count": 87,
   "metadata": {
    "scrolled": false
   },
   "outputs": [
    {
     "data": {
      "image/png": "[encoded data removed]",
      "text/plain": [
       "<Figure size 432x288 with 1 Axes>"
      ]
     },
     "metadata": {
      "image/png": {
       "height": 244,
       "width": 391
      }
     },
     "output_type": "display_data"
    }
   ],
   "source": [
    "cars['engine'].plot(kind='hist',bins=30)\n",
    "plt.show()"
   ]
  },
  {
   "cell_type": "code",
   "execution_count": 88,
   "metadata": {},
   "outputs": [
    {
     "data": {
      "text/plain": [
       "0"
      ]
     },
     "execution_count": 88,
     "metadata": {},
     "output_type": "execute_result"
    }
   ],
   "source": [
    "len(cars[cars['engine'].isnull()])"
   ]
  },
  {
   "cell_type": "markdown",
   "metadata": {},
   "source": [
    "___"
   ]
  },
  {
   "cell_type": "markdown",
   "metadata": {},
   "source": [
    "## Dealing with anomalous values in \"mileage\" column"
   ]
  },
  {
   "cell_type": "code",
   "execution_count": 89,
   "metadata": {},
   "outputs": [
    {
     "data": {
      "text/plain": [
       "2"
      ]
     },
     "execution_count": 89,
     "metadata": {},
     "output_type": "execute_result"
    }
   ],
   "source": [
    "len(cars[cars['mileage'].isnull()])"
   ]
  },
  {
   "cell_type": "code",
   "execution_count": 90,
   "metadata": {},
   "outputs": [
    {
     "data": {
      "text/html": [
       "<div>\n",
       "<style scoped>\n",
       "    .dataframe tbody tr th:only-of-type {\n",
       "        vertical-align: middle;\n",
       "    }\n",
       "\n",
       "    .dataframe tbody tr th {\n",
       "        vertical-align: top;\n",
       "    }\n",
       "\n",
       "    .dataframe thead th {\n",
       "        text-align: right;\n",
       "    }\n",
       "</style>\n",
       "<table border=\"1\" class=\"dataframe\">\n",
       "  <thead>\n",
       "    <tr style=\"text-align: right;\">\n",
       "      <th></th>\n",
       "      <th>name</th>\n",
       "      <th>city</th>\n",
       "      <th>year</th>\n",
       "      <th>kms</th>\n",
       "      <th>fuel</th>\n",
       "      <th>transmission</th>\n",
       "      <th>owner</th>\n",
       "      <th>mileage</th>\n",
       "      <th>engine</th>\n",
       "      <th>power</th>\n",
       "      <th>seats</th>\n",
       "      <th>price</th>\n",
       "      <th>brand</th>\n",
       "      <th>model</th>\n",
       "    </tr>\n",
       "  </thead>\n",
       "  <tbody>\n",
       "    <tr>\n",
       "      <th>4446</th>\n",
       "      <td>Mahindra E Verito D4</td>\n",
       "      <td>Chennai</td>\n",
       "      <td>2016</td>\n",
       "      <td>50000</td>\n",
       "      <td>Electric</td>\n",
       "      <td>Automatic</td>\n",
       "      <td>First</td>\n",
       "      <td>NaN</td>\n",
       "      <td>72</td>\n",
       "      <td>41 bhp</td>\n",
       "      <td>5.0</td>\n",
       "      <td>13.00</td>\n",
       "      <td>Mahindra</td>\n",
       "      <td>E</td>\n",
       "    </tr>\n",
       "    <tr>\n",
       "      <th>4904</th>\n",
       "      <td>Toyota Prius 2009-2016 Z4</td>\n",
       "      <td>Mumbai</td>\n",
       "      <td>2011</td>\n",
       "      <td>44000</td>\n",
       "      <td>Electric</td>\n",
       "      <td>Automatic</td>\n",
       "      <td>First</td>\n",
       "      <td>NaN</td>\n",
       "      <td>1798</td>\n",
       "      <td>73 bhp</td>\n",
       "      <td>5.0</td>\n",
       "      <td>12.75</td>\n",
       "      <td>Toyota</td>\n",
       "      <td>Prius</td>\n",
       "    </tr>\n",
       "  </tbody>\n",
       "</table>\n",
       "</div>"
      ],
      "text/plain": [
       "                           name     city  year    kms      fuel transmission  \\\n",
       "4446       Mahindra E Verito D4  Chennai  2016  50000  Electric    Automatic   \n",
       "4904  Toyota Prius 2009-2016 Z4   Mumbai  2011  44000  Electric    Automatic   \n",
       "\n",
       "      owner mileage  engine   power  seats  price     brand  model  \n",
       "4446  First     NaN      72  41 bhp    5.0  13.00  Mahindra      E  \n",
       "4904  First     NaN    1798  73 bhp    5.0  12.75    Toyota  Prius  "
      ]
     },
     "execution_count": 90,
     "metadata": {},
     "output_type": "execute_result"
    }
   ],
   "source": [
    "cars[cars['mileage'].isnull()]"
   ]
  },
  {
   "cell_type": "code",
   "execution_count": 91,
   "metadata": {},
   "outputs": [],
   "source": [
    "cars.loc[cars[\"model\"]==\"Prius\",\"mileage\"]=24\n",
    "cars.loc[cars[\"model\"]==\"E\",\"mileage\"]=30"
   ]
  },
  {
   "cell_type": "code",
   "execution_count": 92,
   "metadata": {},
   "outputs": [],
   "source": [
    "for i in range(len(cars)):\n",
    "    st=cars.loc[i,\"mileage\"]\n",
    "    #print(i)\n",
    "    a=4\n",
    "    if type(st)!=type(a):\n",
    "    #print(st)\n",
    "    #st=str(st)\n",
    "        le=\"\"\n",
    "        for j in st:\n",
    "            if j==' ':\n",
    "                break\n",
    "            le=le+j\n",
    "        cars.loc[i,\"mileage\"]=le"
   ]
  },
  {
   "cell_type": "code",
   "execution_count": 93,
   "metadata": {},
   "outputs": [],
   "source": [
    "cars[\"mileage\"]=pd.to_numeric(cars[\"mileage\"])"
   ]
  },
  {
   "cell_type": "code",
   "execution_count": 94,
   "metadata": {
    "scrolled": false
   },
   "outputs": [
    {
     "data": {
      "image/png": "[encoded data removed]",
      "text/plain": [
       "<Figure size 432x288 with 1 Axes>"
      ]
     },
     "metadata": {
      "image/png": {
       "height": 244,
       "width": 389
      }
     },
     "output_type": "display_data"
    }
   ],
   "source": [
    "cars['mileage'].plot(kind='hist',bins=30)\n",
    "plt.show()"
   ]
  },
  {
   "cell_type": "code",
   "execution_count": 95,
   "metadata": {},
   "outputs": [
    {
     "data": {
      "text/plain": [
       "0"
      ]
     },
     "execution_count": 95,
     "metadata": {},
     "output_type": "execute_result"
    }
   ],
   "source": [
    "len(cars[cars['mileage'].isnull()])"
   ]
  },
  {
   "cell_type": "markdown",
   "metadata": {},
   "source": [
    "### Dealing with cars which are supposed to have zero mileage ( which obviously signifies faulty data collection)"
   ]
  },
  {
   "cell_type": "code",
   "execution_count": 96,
   "metadata": {
    "scrolled": true
   },
   "outputs": [
    {
     "data": {
      "text/html": [
       "<div>\n",
       "<style scoped>\n",
       "    .dataframe tbody tr th:only-of-type {\n",
       "        vertical-align: middle;\n",
       "    }\n",
       "\n",
       "    .dataframe tbody tr th {\n",
       "        vertical-align: top;\n",
       "    }\n",
       "\n",
       "    .dataframe thead th {\n",
       "        text-align: right;\n",
       "    }\n",
       "</style>\n",
       "<table border=\"1\" class=\"dataframe\">\n",
       "  <thead>\n",
       "    <tr style=\"text-align: right;\">\n",
       "      <th></th>\n",
       "      <th>name</th>\n",
       "      <th>city</th>\n",
       "      <th>year</th>\n",
       "      <th>kms</th>\n",
       "      <th>fuel</th>\n",
       "      <th>transmission</th>\n",
       "      <th>owner</th>\n",
       "      <th>mileage</th>\n",
       "      <th>engine</th>\n",
       "      <th>power</th>\n",
       "      <th>seats</th>\n",
       "      <th>price</th>\n",
       "      <th>brand</th>\n",
       "      <th>model</th>\n",
       "    </tr>\n",
       "  </thead>\n",
       "  <tbody>\n",
       "    <tr>\n",
       "      <th>14</th>\n",
       "      <td>Land Rover Freelander 2 TD4 SE</td>\n",
       "      <td>Pune</td>\n",
       "      <td>2012</td>\n",
       "      <td>85000</td>\n",
       "      <td>Diesel</td>\n",
       "      <td>Automatic</td>\n",
       "      <td>Second</td>\n",
       "      <td>0.0</td>\n",
       "      <td>2179</td>\n",
       "      <td>115 bhp</td>\n",
       "      <td>5.0</td>\n",
       "      <td>17.50</td>\n",
       "      <td>Land_Rover</td>\n",
       "      <td>Rover</td>\n",
       "    </tr>\n",
       "    <tr>\n",
       "      <th>67</th>\n",
       "      <td>Mercedes-Benz C-Class Progressive C 220d</td>\n",
       "      <td>Coimbatore</td>\n",
       "      <td>2019</td>\n",
       "      <td>15369</td>\n",
       "      <td>Diesel</td>\n",
       "      <td>Automatic</td>\n",
       "      <td>First</td>\n",
       "      <td>0.0</td>\n",
       "      <td>1950</td>\n",
       "      <td>194 bhp</td>\n",
       "      <td>5.0</td>\n",
       "      <td>35.67</td>\n",
       "      <td>Mercedes-Benz</td>\n",
       "      <td>C-Class</td>\n",
       "    </tr>\n",
       "    <tr>\n",
       "      <th>79</th>\n",
       "      <td>Hyundai Santro Xing XL</td>\n",
       "      <td>Hyderabad</td>\n",
       "      <td>2005</td>\n",
       "      <td>87591</td>\n",
       "      <td>Petrol</td>\n",
       "      <td>Manual</td>\n",
       "      <td>First</td>\n",
       "      <td>0.0</td>\n",
       "      <td>1086</td>\n",
       "      <td>null bhp</td>\n",
       "      <td>5.0</td>\n",
       "      <td>1.30</td>\n",
       "      <td>Hyundai</td>\n",
       "      <td>Santro</td>\n",
       "    </tr>\n",
       "    <tr>\n",
       "      <th>194</th>\n",
       "      <td>Honda City 1.5 GXI</td>\n",
       "      <td>Ahmedabad</td>\n",
       "      <td>2007</td>\n",
       "      <td>60006</td>\n",
       "      <td>Petrol</td>\n",
       "      <td>Manual</td>\n",
       "      <td>First</td>\n",
       "      <td>0.0</td>\n",
       "      <td>1500</td>\n",
       "      <td>NaN</td>\n",
       "      <td>NaN</td>\n",
       "      <td>2.95</td>\n",
       "      <td>Honda</td>\n",
       "      <td>City</td>\n",
       "    </tr>\n",
       "    <tr>\n",
       "      <th>229</th>\n",
       "      <td>Ford Figo Diesel</td>\n",
       "      <td>Bangalore</td>\n",
       "      <td>2015</td>\n",
       "      <td>70436</td>\n",
       "      <td>Diesel</td>\n",
       "      <td>Manual</td>\n",
       "      <td>First</td>\n",
       "      <td>0.0</td>\n",
       "      <td>1498</td>\n",
       "      <td>99 bhp</td>\n",
       "      <td>NaN</td>\n",
       "      <td>3.60</td>\n",
       "      <td>Ford</td>\n",
       "      <td>Figo</td>\n",
       "    </tr>\n",
       "    <tr>\n",
       "      <th>...</th>\n",
       "      <td>...</td>\n",
       "      <td>...</td>\n",
       "      <td>...</td>\n",
       "      <td>...</td>\n",
       "      <td>...</td>\n",
       "      <td>...</td>\n",
       "      <td>...</td>\n",
       "      <td>...</td>\n",
       "      <td>...</td>\n",
       "      <td>...</td>\n",
       "      <td>...</td>\n",
       "      <td>...</td>\n",
       "      <td>...</td>\n",
       "      <td>...</td>\n",
       "    </tr>\n",
       "    <tr>\n",
       "      <th>5647</th>\n",
       "      <td>Toyota Qualis Fleet A3</td>\n",
       "      <td>Mumbai</td>\n",
       "      <td>2001</td>\n",
       "      <td>227000</td>\n",
       "      <td>Diesel</td>\n",
       "      <td>Manual</td>\n",
       "      <td>Fourth &amp; Above</td>\n",
       "      <td>0.0</td>\n",
       "      <td>2446</td>\n",
       "      <td>null bhp</td>\n",
       "      <td>8.0</td>\n",
       "      <td>2.20</td>\n",
       "      <td>Toyota</td>\n",
       "      <td>Qualis</td>\n",
       "    </tr>\n",
       "    <tr>\n",
       "      <th>5875</th>\n",
       "      <td>Mercedes-Benz C-Class Progressive C 220d</td>\n",
       "      <td>Ahmedabad</td>\n",
       "      <td>2019</td>\n",
       "      <td>4000</td>\n",
       "      <td>Diesel</td>\n",
       "      <td>Automatic</td>\n",
       "      <td>First</td>\n",
       "      <td>0.0</td>\n",
       "      <td>1950</td>\n",
       "      <td>194 bhp</td>\n",
       "      <td>5.0</td>\n",
       "      <td>35.00</td>\n",
       "      <td>Mercedes-Benz</td>\n",
       "      <td>C-Class</td>\n",
       "    </tr>\n",
       "    <tr>\n",
       "      <th>5943</th>\n",
       "      <td>Mahindra Jeep MM 540 DP</td>\n",
       "      <td>Chennai</td>\n",
       "      <td>2002</td>\n",
       "      <td>75000</td>\n",
       "      <td>Diesel</td>\n",
       "      <td>Manual</td>\n",
       "      <td>First</td>\n",
       "      <td>0.0</td>\n",
       "      <td>2112</td>\n",
       "      <td>null bhp</td>\n",
       "      <td>6.0</td>\n",
       "      <td>1.70</td>\n",
       "      <td>Mahindra</td>\n",
       "      <td>Jeep</td>\n",
       "    </tr>\n",
       "    <tr>\n",
       "      <th>5972</th>\n",
       "      <td>Hyundai Santro Xing GL</td>\n",
       "      <td>Mumbai</td>\n",
       "      <td>2008</td>\n",
       "      <td>65000</td>\n",
       "      <td>Petrol</td>\n",
       "      <td>Manual</td>\n",
       "      <td>Second</td>\n",
       "      <td>0.0</td>\n",
       "      <td>1086</td>\n",
       "      <td>62 bhp</td>\n",
       "      <td>5.0</td>\n",
       "      <td>1.39</td>\n",
       "      <td>Hyundai</td>\n",
       "      <td>Santro</td>\n",
       "    </tr>\n",
       "    <tr>\n",
       "      <th>6011</th>\n",
       "      <td>Skoda Superb 3.6 V6 FSI</td>\n",
       "      <td>Hyderabad</td>\n",
       "      <td>2009</td>\n",
       "      <td>53000</td>\n",
       "      <td>Petrol</td>\n",
       "      <td>Automatic</td>\n",
       "      <td>First</td>\n",
       "      <td>0.0</td>\n",
       "      <td>3597</td>\n",
       "      <td>262.6 bhp</td>\n",
       "      <td>5.0</td>\n",
       "      <td>4.75</td>\n",
       "      <td>Skoda</td>\n",
       "      <td>Superb</td>\n",
       "    </tr>\n",
       "  </tbody>\n",
       "</table>\n",
       "<p>68 rows × 14 columns</p>\n",
       "</div>"
      ],
      "text/plain": [
       "                                          name        city  year     kms  \\\n",
       "14              Land Rover Freelander 2 TD4 SE        Pune  2012   85000   \n",
       "67    Mercedes-Benz C-Class Progressive C 220d  Coimbatore  2019   15369   \n",
       "79                      Hyundai Santro Xing XL   Hyderabad  2005   87591   \n",
       "194                         Honda City 1.5 GXI   Ahmedabad  2007   60006   \n",
       "229                           Ford Figo Diesel   Bangalore  2015   70436   \n",
       "...                                        ...         ...   ...     ...   \n",
       "5647                    Toyota Qualis Fleet A3      Mumbai  2001  227000   \n",
       "5875  Mercedes-Benz C-Class Progressive C 220d   Ahmedabad  2019    4000   \n",
       "5943                   Mahindra Jeep MM 540 DP     Chennai  2002   75000   \n",
       "5972                    Hyundai Santro Xing GL      Mumbai  2008   65000   \n",
       "6011                   Skoda Superb 3.6 V6 FSI   Hyderabad  2009   53000   \n",
       "\n",
       "        fuel transmission           owner  mileage  engine      power  seats  \\\n",
       "14    Diesel    Automatic          Second      0.0    2179    115 bhp    5.0   \n",
       "67    Diesel    Automatic           First      0.0    1950    194 bhp    5.0   \n",
       "79    Petrol       Manual           First      0.0    1086   null bhp    5.0   \n",
       "194   Petrol       Manual           First      0.0    1500        NaN    NaN   \n",
       "229   Diesel       Manual           First      0.0    1498     99 bhp    NaN   \n",
       "...      ...          ...             ...      ...     ...        ...    ...   \n",
       "5647  Diesel       Manual  Fourth & Above      0.0    2446   null bhp    8.0   \n",
       "5875  Diesel    Automatic           First      0.0    1950    194 bhp    5.0   \n",
       "5943  Diesel       Manual           First      0.0    2112   null bhp    6.0   \n",
       "5972  Petrol       Manual          Second      0.0    1086     62 bhp    5.0   \n",
       "6011  Petrol    Automatic           First      0.0    3597  262.6 bhp    5.0   \n",
       "\n",
       "      price          brand    model  \n",
       "14    17.50     Land_Rover    Rover  \n",
       "67    35.67  Mercedes-Benz  C-Class  \n",
       "79     1.30        Hyundai   Santro  \n",
       "194    2.95          Honda     City  \n",
       "229    3.60           Ford     Figo  \n",
       "...     ...            ...      ...  \n",
       "5647   2.20         Toyota   Qualis  \n",
       "5875  35.00  Mercedes-Benz  C-Class  \n",
       "5943   1.70       Mahindra     Jeep  \n",
       "5972   1.39        Hyundai   Santro  \n",
       "6011   4.75          Skoda   Superb  \n",
       "\n",
       "[68 rows x 14 columns]"
      ]
     },
     "execution_count": 96,
     "metadata": {},
     "output_type": "execute_result"
    }
   ],
   "source": [
    "cars[cars[\"mileage\"]<5]"
   ]
  },
  {
   "cell_type": "code",
   "execution_count": 97,
   "metadata": {},
   "outputs": [],
   "source": [
    "#cars.loc[(cars['model'] == 'New') & (cars['brand'] == 'Mercedes-Benz'), 'model'] = 'C-Class'\n",
    "#cars[cars['engine'].isnull()].loc[cars[\"model\"]==\"Swift\",\"engine\"]=1300\n",
    "#print(le)\n",
    "col_name=\"mileage\"\n",
    "cars.loc[i,col_name]\n",
    "for i in range(len(cars)):\n",
    "    if cars[col_name][i]==0:\n",
    "        if cars[\"model\"][i]==\"Santro\":\n",
    "            cars.loc[i,col_name]=17\n",
    "        elif cars[\"model\"][i]==\"Jeep\":\n",
    "            cars.loc[i,col_name]=12\n",
    "        elif cars[\"model\"][i]==\"Qualis\":\n",
    "            cars.loc[i,col_name]=13.1\n",
    "        elif cars[\"model\"][i]==\"Jetta\":\n",
    "            cars.loc[i,col_name]=17\n",
    "        elif cars[\"model\"][i]==\"Qualis\":\n",
    "            cars.loc[i,col_name]=13.1\n",
    "        elif cars[\"model\"][i]==\"C-Class\":\n",
    "            cars.loc[i,col_name]=15.07\n",
    "        elif cars[\"model\"][i]==\"Superb\":\n",
    "            cars.loc[i,col_name]=13.9\n",
    "        elif cars[\"model\"][i]==\"M-Class\":\n",
    "            cars.loc[i,col_name]=11.74\n",
    "        elif cars[\"model\"][i]==\"Rover\":\n",
    "            cars.loc[i,col_name]=12.70\n",
    "        elif cars[\"model\"][i]==\"City\":\n",
    "            if cars[\"fuel\"][i]==\"Petrol\":\n",
    "                cars.loc[i,col_name]=16.72\n",
    "            else:\n",
    "                cars.loc[i,col_name]=25.68\n",
    "        elif cars[\"model\"][i]==\"Figo\":\n",
    "            cars.loc[i,col_name]=20.8\n",
    "        elif cars[\"model\"][i]==\"A7\":\n",
    "            cars.loc[i,col_name]=14.4\n",
    "        elif cars[\"model\"][i]==\"Baleno\":\n",
    "            cars.loc[i,col_name]=21.4\n",
    "        elif cars[\"model\"][i]==\"A7\":\n",
    "            cars.loc[i,col_name]=14.4\n",
    "        elif cars[\"model\"][i]==\"Siena\":\n",
    "            cars.loc[i,col_name]=12\n",
    "        elif cars[\"model\"][i]==\"Fortwo\":\n",
    "            cars.loc[i,col_name]=55*0.43\n",
    "        #cars[col_name][i]=str(cars[col_name][i])"
   ]
  },
  {
   "cell_type": "code",
   "execution_count": 98,
   "metadata": {},
   "outputs": [
    {
     "data": {
      "image/png": "[encoded data removed]",
      "text/plain": [
       "<Figure size 432x288 with 1 Axes>"
      ]
     },
     "metadata": {
      "image/png": {
       "height": 244,
       "width": 389
      }
     },
     "output_type": "display_data"
    }
   ],
   "source": [
    "cars['mileage'].plot(kind='hist',bins=30)\n",
    "plt.show()"
   ]
  },
  {
   "cell_type": "markdown",
   "metadata": {},
   "source": [
    "___"
   ]
  },
  {
   "cell_type": "markdown",
   "metadata": {},
   "source": [
    "## Dealing with \"seats\" column"
   ]
  },
  {
   "cell_type": "code",
   "execution_count": 99,
   "metadata": {},
   "outputs": [
    {
     "data": {
      "text/plain": [
       "42"
      ]
     },
     "execution_count": 99,
     "metadata": {},
     "output_type": "execute_result"
    }
   ],
   "source": [
    "len(cars[cars['seats'].isnull()])"
   ]
  },
  {
   "cell_type": "code",
   "execution_count": 100,
   "metadata": {},
   "outputs": [
    {
     "data": {
      "text/html": [
       "<div>\n",
       "<style scoped>\n",
       "    .dataframe tbody tr th:only-of-type {\n",
       "        vertical-align: middle;\n",
       "    }\n",
       "\n",
       "    .dataframe tbody tr th {\n",
       "        vertical-align: top;\n",
       "    }\n",
       "\n",
       "    .dataframe thead th {\n",
       "        text-align: right;\n",
       "    }\n",
       "</style>\n",
       "<table border=\"1\" class=\"dataframe\">\n",
       "  <thead>\n",
       "    <tr style=\"text-align: right;\">\n",
       "      <th></th>\n",
       "      <th>name</th>\n",
       "      <th>city</th>\n",
       "      <th>year</th>\n",
       "      <th>kms</th>\n",
       "      <th>fuel</th>\n",
       "      <th>transmission</th>\n",
       "      <th>owner</th>\n",
       "      <th>mileage</th>\n",
       "      <th>engine</th>\n",
       "      <th>power</th>\n",
       "      <th>seats</th>\n",
       "      <th>price</th>\n",
       "      <th>brand</th>\n",
       "      <th>model</th>\n",
       "    </tr>\n",
       "  </thead>\n",
       "  <tbody>\n",
       "    <tr>\n",
       "      <th>194</th>\n",
       "      <td>Honda City 1.5 GXI</td>\n",
       "      <td>Ahmedabad</td>\n",
       "      <td>2007</td>\n",
       "      <td>60006</td>\n",
       "      <td>Petrol</td>\n",
       "      <td>Manual</td>\n",
       "      <td>First</td>\n",
       "      <td>16.72</td>\n",
       "      <td>1500</td>\n",
       "      <td>NaN</td>\n",
       "      <td>NaN</td>\n",
       "      <td>2.95</td>\n",
       "      <td>Honda</td>\n",
       "      <td>City</td>\n",
       "    </tr>\n",
       "    <tr>\n",
       "      <th>208</th>\n",
       "      <td>Maruti Swift 1.3 VXi</td>\n",
       "      <td>Kolkata</td>\n",
       "      <td>2010</td>\n",
       "      <td>42001</td>\n",
       "      <td>Petrol</td>\n",
       "      <td>Manual</td>\n",
       "      <td>First</td>\n",
       "      <td>16.10</td>\n",
       "      <td>1300</td>\n",
       "      <td>NaN</td>\n",
       "      <td>NaN</td>\n",
       "      <td>2.11</td>\n",
       "      <td>Maruti</td>\n",
       "      <td>Swift</td>\n",
       "    </tr>\n",
       "    <tr>\n",
       "      <th>229</th>\n",
       "      <td>Ford Figo Diesel</td>\n",
       "      <td>Bangalore</td>\n",
       "      <td>2015</td>\n",
       "      <td>70436</td>\n",
       "      <td>Diesel</td>\n",
       "      <td>Manual</td>\n",
       "      <td>First</td>\n",
       "      <td>20.80</td>\n",
       "      <td>1498</td>\n",
       "      <td>99 bhp</td>\n",
       "      <td>NaN</td>\n",
       "      <td>3.60</td>\n",
       "      <td>Ford</td>\n",
       "      <td>Figo</td>\n",
       "    </tr>\n",
       "    <tr>\n",
       "      <th>733</th>\n",
       "      <td>Maruti Swift 1.3 VXi</td>\n",
       "      <td>Chennai</td>\n",
       "      <td>2006</td>\n",
       "      <td>97800</td>\n",
       "      <td>Petrol</td>\n",
       "      <td>Manual</td>\n",
       "      <td>Third</td>\n",
       "      <td>16.10</td>\n",
       "      <td>1300</td>\n",
       "      <td>NaN</td>\n",
       "      <td>NaN</td>\n",
       "      <td>1.75</td>\n",
       "      <td>Maruti</td>\n",
       "      <td>Swift</td>\n",
       "    </tr>\n",
       "    <tr>\n",
       "      <th>749</th>\n",
       "      <td>Land Rover Range Rover 3.0 D</td>\n",
       "      <td>Mumbai</td>\n",
       "      <td>2008</td>\n",
       "      <td>55001</td>\n",
       "      <td>Diesel</td>\n",
       "      <td>Automatic</td>\n",
       "      <td>Second</td>\n",
       "      <td>12.70</td>\n",
       "      <td>3000</td>\n",
       "      <td>NaN</td>\n",
       "      <td>NaN</td>\n",
       "      <td>26.50</td>\n",
       "      <td>Land_Rover</td>\n",
       "      <td>Rover</td>\n",
       "    </tr>\n",
       "  </tbody>\n",
       "</table>\n",
       "</div>"
      ],
      "text/plain": [
       "                             name       city  year    kms    fuel  \\\n",
       "194            Honda City 1.5 GXI  Ahmedabad  2007  60006  Petrol   \n",
       "208          Maruti Swift 1.3 VXi    Kolkata  2010  42001  Petrol   \n",
       "229              Ford Figo Diesel  Bangalore  2015  70436  Diesel   \n",
       "733          Maruti Swift 1.3 VXi    Chennai  2006  97800  Petrol   \n",
       "749  Land Rover Range Rover 3.0 D     Mumbai  2008  55001  Diesel   \n",
       "\n",
       "    transmission   owner  mileage  engine   power  seats  price       brand  \\\n",
       "194       Manual   First    16.72    1500     NaN    NaN   2.95       Honda   \n",
       "208       Manual   First    16.10    1300     NaN    NaN   2.11      Maruti   \n",
       "229       Manual   First    20.80    1498  99 bhp    NaN   3.60        Ford   \n",
       "733       Manual   Third    16.10    1300     NaN    NaN   1.75      Maruti   \n",
       "749    Automatic  Second    12.70    3000     NaN    NaN  26.50  Land_Rover   \n",
       "\n",
       "     model  \n",
       "194   City  \n",
       "208  Swift  \n",
       "229   Figo  \n",
       "733  Swift  \n",
       "749  Rover  "
      ]
     },
     "execution_count": 100,
     "metadata": {},
     "output_type": "execute_result"
    }
   ],
   "source": [
    "cars[cars['seats'].isnull()].head()"
   ]
  },
  {
   "cell_type": "code",
   "execution_count": 101,
   "metadata": {},
   "outputs": [],
   "source": [
    "five=[\"Santro\",\"Punto\",\"Swift\",\"City\",\"Jazz\",\"Estilo\",\"Etios\",\"Figo\",\"Wagon-R\",\"5\",\"Rover\",\"CR-V\"]"
   ]
  },
  {
   "cell_type": "markdown",
   "metadata": {},
   "source": [
    "### Manual handling of null values ( data derived from cardekho.com)"
   ]
  },
  {
   "cell_type": "code",
   "execution_count": 102,
   "metadata": {},
   "outputs": [],
   "source": [
    "#cars.loc[(cars['model'] == 'New') & (cars['brand'] == 'Mercedes-Benz'), 'model'] = 'C-Class'\n",
    "#cars[cars['engine'].isnull()].loc[cars[\"model\"]==\"Swift\",\"engine\"]=1300\n",
    "le=cars[\"seats\"].isnull()\n",
    "#print(le)\n",
    "col_name=\"seats\"\n",
    "for i in range(len(cars)):\n",
    "    if le[i]==True:\n",
    "        if cars[\"model\"][i]in five:\n",
    "            cars.loc[i,\"seats\"]=5\n",
    "        else:\n",
    "            cars.loc[i,\"seats\"]=7"
   ]
  },
  {
   "cell_type": "code",
   "execution_count": 103,
   "metadata": {},
   "outputs": [
    {
     "data": {
      "image/png": "[encoded data removed]",
      "text/plain": [
       "<Figure size 432x288 with 1 Axes>"
      ]
     },
     "metadata": {
      "image/png": {
       "height": 244,
       "width": 391
      }
     },
     "output_type": "display_data"
    }
   ],
   "source": [
    "cars['seats'].plot(kind='hist',bins=30)\n",
    "plt.show()"
   ]
  },
  {
   "cell_type": "code",
   "execution_count": 104,
   "metadata": {},
   "outputs": [
    {
     "data": {
      "text/plain": [
       "0"
      ]
     },
     "execution_count": 104,
     "metadata": {},
     "output_type": "execute_result"
    }
   ],
   "source": [
    "len(cars[cars['seats'].isnull()])"
   ]
  },
  {
   "cell_type": "markdown",
   "metadata": {},
   "source": [
    "# -------------------------------------------------------------------------------------------------------------"
   ]
  },
  {
   "cell_type": "code",
   "execution_count": null,
   "metadata": {},
   "outputs": [],
   "source": []
  },
  {
   "cell_type": "markdown",
   "metadata": {},
   "source": [
    "# Dealing with \"power\" column"
   ]
  },
  {
   "cell_type": "code",
   "execution_count": 105,
   "metadata": {},
   "outputs": [
    {
     "data": {
      "text/plain": [
       "36"
      ]
     },
     "execution_count": 105,
     "metadata": {},
     "output_type": "execute_result"
    }
   ],
   "source": [
    "len(cars[cars['power'].isnull()])"
   ]
  },
  {
   "cell_type": "code",
   "execution_count": 106,
   "metadata": {},
   "outputs": [
    {
     "data": {
      "text/html": [
       "<div>\n",
       "<style scoped>\n",
       "    .dataframe tbody tr th:only-of-type {\n",
       "        vertical-align: middle;\n",
       "    }\n",
       "\n",
       "    .dataframe tbody tr th {\n",
       "        vertical-align: top;\n",
       "    }\n",
       "\n",
       "    .dataframe thead th {\n",
       "        text-align: right;\n",
       "    }\n",
       "</style>\n",
       "<table border=\"1\" class=\"dataframe\">\n",
       "  <thead>\n",
       "    <tr style=\"text-align: right;\">\n",
       "      <th></th>\n",
       "      <th>name</th>\n",
       "      <th>city</th>\n",
       "      <th>year</th>\n",
       "      <th>kms</th>\n",
       "      <th>fuel</th>\n",
       "      <th>transmission</th>\n",
       "      <th>owner</th>\n",
       "      <th>mileage</th>\n",
       "      <th>engine</th>\n",
       "      <th>power</th>\n",
       "      <th>seats</th>\n",
       "      <th>price</th>\n",
       "      <th>brand</th>\n",
       "      <th>model</th>\n",
       "    </tr>\n",
       "  </thead>\n",
       "  <tbody>\n",
       "    <tr>\n",
       "      <th>194</th>\n",
       "      <td>Honda City 1.5 GXI</td>\n",
       "      <td>Ahmedabad</td>\n",
       "      <td>2007</td>\n",
       "      <td>60006</td>\n",
       "      <td>Petrol</td>\n",
       "      <td>Manual</td>\n",
       "      <td>First</td>\n",
       "      <td>16.72</td>\n",
       "      <td>1500</td>\n",
       "      <td>NaN</td>\n",
       "      <td>5.0</td>\n",
       "      <td>2.95</td>\n",
       "      <td>Honda</td>\n",
       "      <td>City</td>\n",
       "    </tr>\n",
       "    <tr>\n",
       "      <th>208</th>\n",
       "      <td>Maruti Swift 1.3 VXi</td>\n",
       "      <td>Kolkata</td>\n",
       "      <td>2010</td>\n",
       "      <td>42001</td>\n",
       "      <td>Petrol</td>\n",
       "      <td>Manual</td>\n",
       "      <td>First</td>\n",
       "      <td>16.10</td>\n",
       "      <td>1300</td>\n",
       "      <td>NaN</td>\n",
       "      <td>5.0</td>\n",
       "      <td>2.11</td>\n",
       "      <td>Maruti</td>\n",
       "      <td>Swift</td>\n",
       "    </tr>\n",
       "    <tr>\n",
       "      <th>733</th>\n",
       "      <td>Maruti Swift 1.3 VXi</td>\n",
       "      <td>Chennai</td>\n",
       "      <td>2006</td>\n",
       "      <td>97800</td>\n",
       "      <td>Petrol</td>\n",
       "      <td>Manual</td>\n",
       "      <td>Third</td>\n",
       "      <td>16.10</td>\n",
       "      <td>1300</td>\n",
       "      <td>NaN</td>\n",
       "      <td>5.0</td>\n",
       "      <td>1.75</td>\n",
       "      <td>Maruti</td>\n",
       "      <td>Swift</td>\n",
       "    </tr>\n",
       "    <tr>\n",
       "      <th>749</th>\n",
       "      <td>Land Rover Range Rover 3.0 D</td>\n",
       "      <td>Mumbai</td>\n",
       "      <td>2008</td>\n",
       "      <td>55001</td>\n",
       "      <td>Diesel</td>\n",
       "      <td>Automatic</td>\n",
       "      <td>Second</td>\n",
       "      <td>12.70</td>\n",
       "      <td>3000</td>\n",
       "      <td>NaN</td>\n",
       "      <td>5.0</td>\n",
       "      <td>26.50</td>\n",
       "      <td>Land_Rover</td>\n",
       "      <td>Rover</td>\n",
       "    </tr>\n",
       "    <tr>\n",
       "      <th>1294</th>\n",
       "      <td>Honda City 1.3 DX</td>\n",
       "      <td>Delhi</td>\n",
       "      <td>2009</td>\n",
       "      <td>55005</td>\n",
       "      <td>Petrol</td>\n",
       "      <td>Manual</td>\n",
       "      <td>First</td>\n",
       "      <td>12.80</td>\n",
       "      <td>1500</td>\n",
       "      <td>NaN</td>\n",
       "      <td>5.0</td>\n",
       "      <td>3.20</td>\n",
       "      <td>Honda</td>\n",
       "      <td>City</td>\n",
       "    </tr>\n",
       "    <tr>\n",
       "      <th>1327</th>\n",
       "      <td>Maruti Swift 1.3 ZXI</td>\n",
       "      <td>Hyderabad</td>\n",
       "      <td>2015</td>\n",
       "      <td>50295</td>\n",
       "      <td>Petrol</td>\n",
       "      <td>Manual</td>\n",
       "      <td>First</td>\n",
       "      <td>16.10</td>\n",
       "      <td>1300</td>\n",
       "      <td>NaN</td>\n",
       "      <td>5.0</td>\n",
       "      <td>5.80</td>\n",
       "      <td>Maruti</td>\n",
       "      <td>Swift</td>\n",
       "    </tr>\n",
       "    <tr>\n",
       "      <th>1385</th>\n",
       "      <td>Honda City 1.5 GXI</td>\n",
       "      <td>Pune</td>\n",
       "      <td>2004</td>\n",
       "      <td>115000</td>\n",
       "      <td>Petrol</td>\n",
       "      <td>Manual</td>\n",
       "      <td>Second</td>\n",
       "      <td>16.72</td>\n",
       "      <td>1500</td>\n",
       "      <td>NaN</td>\n",
       "      <td>5.0</td>\n",
       "      <td>1.50</td>\n",
       "      <td>Honda</td>\n",
       "      <td>City</td>\n",
       "    </tr>\n",
       "    <tr>\n",
       "      <th>1460</th>\n",
       "      <td>Land Rover Range Rover Sport 2005 2012 Sport</td>\n",
       "      <td>Coimbatore</td>\n",
       "      <td>2008</td>\n",
       "      <td>69078</td>\n",
       "      <td>Petrol</td>\n",
       "      <td>Manual</td>\n",
       "      <td>First</td>\n",
       "      <td>12.70</td>\n",
       "      <td>3000</td>\n",
       "      <td>NaN</td>\n",
       "      <td>5.0</td>\n",
       "      <td>40.88</td>\n",
       "      <td>Land_Rover</td>\n",
       "      <td>Rover</td>\n",
       "    </tr>\n",
       "    <tr>\n",
       "      <th>2074</th>\n",
       "      <td>Maruti Swift 1.3 LXI</td>\n",
       "      <td>Pune</td>\n",
       "      <td>2011</td>\n",
       "      <td>24255</td>\n",
       "      <td>Petrol</td>\n",
       "      <td>Manual</td>\n",
       "      <td>First</td>\n",
       "      <td>16.10</td>\n",
       "      <td>1300</td>\n",
       "      <td>NaN</td>\n",
       "      <td>5.0</td>\n",
       "      <td>3.15</td>\n",
       "      <td>Maruti</td>\n",
       "      <td>Swift</td>\n",
       "    </tr>\n",
       "    <tr>\n",
       "      <th>2096</th>\n",
       "      <td>Hyundai Santro LP zipPlus</td>\n",
       "      <td>Coimbatore</td>\n",
       "      <td>2004</td>\n",
       "      <td>52146</td>\n",
       "      <td>Petrol</td>\n",
       "      <td>Manual</td>\n",
       "      <td>First</td>\n",
       "      <td>17.00</td>\n",
       "      <td>1086</td>\n",
       "      <td>NaN</td>\n",
       "      <td>5.0</td>\n",
       "      <td>1.93</td>\n",
       "      <td>Hyundai</td>\n",
       "      <td>Santro</td>\n",
       "    </tr>\n",
       "    <tr>\n",
       "      <th>2264</th>\n",
       "      <td>Toyota Etios Liva V</td>\n",
       "      <td>Pune</td>\n",
       "      <td>2012</td>\n",
       "      <td>24500</td>\n",
       "      <td>Petrol</td>\n",
       "      <td>Manual</td>\n",
       "      <td>Second</td>\n",
       "      <td>18.30</td>\n",
       "      <td>1197</td>\n",
       "      <td>NaN</td>\n",
       "      <td>5.0</td>\n",
       "      <td>2.95</td>\n",
       "      <td>Toyota</td>\n",
       "      <td>Etios</td>\n",
       "    </tr>\n",
       "    <tr>\n",
       "      <th>2325</th>\n",
       "      <td>Maruti Swift 1.3 VXI ABS</td>\n",
       "      <td>Pune</td>\n",
       "      <td>2015</td>\n",
       "      <td>67000</td>\n",
       "      <td>Petrol</td>\n",
       "      <td>Manual</td>\n",
       "      <td>First</td>\n",
       "      <td>16.10</td>\n",
       "      <td>1300</td>\n",
       "      <td>NaN</td>\n",
       "      <td>5.0</td>\n",
       "      <td>4.70</td>\n",
       "      <td>Maruti</td>\n",
       "      <td>Swift</td>\n",
       "    </tr>\n",
       "    <tr>\n",
       "      <th>2335</th>\n",
       "      <td>Maruti Swift 1.3 VXi</td>\n",
       "      <td>Mumbai</td>\n",
       "      <td>2007</td>\n",
       "      <td>55000</td>\n",
       "      <td>Petrol</td>\n",
       "      <td>Manual</td>\n",
       "      <td>Second</td>\n",
       "      <td>16.10</td>\n",
       "      <td>1300</td>\n",
       "      <td>NaN</td>\n",
       "      <td>5.0</td>\n",
       "      <td>1.75</td>\n",
       "      <td>Maruti</td>\n",
       "      <td>Swift</td>\n",
       "    </tr>\n",
       "    <tr>\n",
       "      <th>2530</th>\n",
       "      <td>BMW 5 Series 520d Sedan</td>\n",
       "      <td>Kochi</td>\n",
       "      <td>2014</td>\n",
       "      <td>64158</td>\n",
       "      <td>Diesel</td>\n",
       "      <td>Automatic</td>\n",
       "      <td>First</td>\n",
       "      <td>18.48</td>\n",
       "      <td>2000</td>\n",
       "      <td>NaN</td>\n",
       "      <td>5.0</td>\n",
       "      <td>17.89</td>\n",
       "      <td>BMW</td>\n",
       "      <td>5</td>\n",
       "    </tr>\n",
       "    <tr>\n",
       "      <th>2542</th>\n",
       "      <td>Hyundai Santro GLS II - Euro II</td>\n",
       "      <td>Bangalore</td>\n",
       "      <td>2011</td>\n",
       "      <td>65000</td>\n",
       "      <td>Petrol</td>\n",
       "      <td>Manual</td>\n",
       "      <td>Second</td>\n",
       "      <td>17.00</td>\n",
       "      <td>1086</td>\n",
       "      <td>NaN</td>\n",
       "      <td>5.0</td>\n",
       "      <td>3.15</td>\n",
       "      <td>Hyundai</td>\n",
       "      <td>Santro</td>\n",
       "    </tr>\n",
       "    <tr>\n",
       "      <th>2623</th>\n",
       "      <td>BMW 5 Series 520d Sedan</td>\n",
       "      <td>Pune</td>\n",
       "      <td>2012</td>\n",
       "      <td>95000</td>\n",
       "      <td>Diesel</td>\n",
       "      <td>Automatic</td>\n",
       "      <td>Second</td>\n",
       "      <td>18.48</td>\n",
       "      <td>2000</td>\n",
       "      <td>NaN</td>\n",
       "      <td>5.0</td>\n",
       "      <td>18.00</td>\n",
       "      <td>BMW</td>\n",
       "      <td>5</td>\n",
       "    </tr>\n",
       "    <tr>\n",
       "      <th>2668</th>\n",
       "      <td>Maruti Swift 1.3 VXi</td>\n",
       "      <td>Kolkata</td>\n",
       "      <td>2014</td>\n",
       "      <td>32986</td>\n",
       "      <td>Petrol</td>\n",
       "      <td>Manual</td>\n",
       "      <td>First</td>\n",
       "      <td>16.10</td>\n",
       "      <td>1300</td>\n",
       "      <td>NaN</td>\n",
       "      <td>5.0</td>\n",
       "      <td>4.24</td>\n",
       "      <td>Maruti</td>\n",
       "      <td>Swift</td>\n",
       "    </tr>\n",
       "    <tr>\n",
       "      <th>2737</th>\n",
       "      <td>Maruti Wagon R Vx</td>\n",
       "      <td>Jaipur</td>\n",
       "      <td>2001</td>\n",
       "      <td>200000</td>\n",
       "      <td>Petrol</td>\n",
       "      <td>Manual</td>\n",
       "      <td>First</td>\n",
       "      <td>12.00</td>\n",
       "      <td>998</td>\n",
       "      <td>NaN</td>\n",
       "      <td>7.0</td>\n",
       "      <td>0.70</td>\n",
       "      <td>Maruti</td>\n",
       "      <td>Wagon</td>\n",
       "    </tr>\n",
       "    <tr>\n",
       "      <th>2780</th>\n",
       "      <td>Hyundai Santro GLS II - Euro II</td>\n",
       "      <td>Pune</td>\n",
       "      <td>2009</td>\n",
       "      <td>100000</td>\n",
       "      <td>Petrol</td>\n",
       "      <td>Manual</td>\n",
       "      <td>First</td>\n",
       "      <td>17.00</td>\n",
       "      <td>1086</td>\n",
       "      <td>NaN</td>\n",
       "      <td>5.0</td>\n",
       "      <td>1.60</td>\n",
       "      <td>Hyundai</td>\n",
       "      <td>Santro</td>\n",
       "    </tr>\n",
       "    <tr>\n",
       "      <th>2842</th>\n",
       "      <td>Hyundai Santro GLS II - Euro II</td>\n",
       "      <td>Bangalore</td>\n",
       "      <td>2012</td>\n",
       "      <td>43000</td>\n",
       "      <td>Petrol</td>\n",
       "      <td>Manual</td>\n",
       "      <td>First</td>\n",
       "      <td>17.00</td>\n",
       "      <td>1086</td>\n",
       "      <td>NaN</td>\n",
       "      <td>5.0</td>\n",
       "      <td>3.25</td>\n",
       "      <td>Hyundai</td>\n",
       "      <td>Santro</td>\n",
       "    </tr>\n",
       "    <tr>\n",
       "      <th>3272</th>\n",
       "      <td>BMW 5 Series 520d Sedan</td>\n",
       "      <td>Mumbai</td>\n",
       "      <td>2008</td>\n",
       "      <td>81000</td>\n",
       "      <td>Diesel</td>\n",
       "      <td>Automatic</td>\n",
       "      <td>Second</td>\n",
       "      <td>18.48</td>\n",
       "      <td>2000</td>\n",
       "      <td>NaN</td>\n",
       "      <td>5.0</td>\n",
       "      <td>10.50</td>\n",
       "      <td>BMW</td>\n",
       "      <td>5</td>\n",
       "    </tr>\n",
       "    <tr>\n",
       "      <th>3404</th>\n",
       "      <td>Maruti Swift 1.3 VXi</td>\n",
       "      <td>Jaipur</td>\n",
       "      <td>2006</td>\n",
       "      <td>125000</td>\n",
       "      <td>Petrol</td>\n",
       "      <td>Manual</td>\n",
       "      <td>Fourth &amp; Above</td>\n",
       "      <td>16.10</td>\n",
       "      <td>1300</td>\n",
       "      <td>NaN</td>\n",
       "      <td>5.0</td>\n",
       "      <td>2.35</td>\n",
       "      <td>Maruti</td>\n",
       "      <td>Swift</td>\n",
       "    </tr>\n",
       "    <tr>\n",
       "      <th>3520</th>\n",
       "      <td>BMW 5 Series 520d Sedan</td>\n",
       "      <td>Delhi</td>\n",
       "      <td>2012</td>\n",
       "      <td>90000</td>\n",
       "      <td>Diesel</td>\n",
       "      <td>Automatic</td>\n",
       "      <td>First</td>\n",
       "      <td>18.48</td>\n",
       "      <td>2000</td>\n",
       "      <td>NaN</td>\n",
       "      <td>5.0</td>\n",
       "      <td>14.50</td>\n",
       "      <td>BMW</td>\n",
       "      <td>5</td>\n",
       "    </tr>\n",
       "    <tr>\n",
       "      <th>3522</th>\n",
       "      <td>Hyundai Santro GLS II - Euro II</td>\n",
       "      <td>Kochi</td>\n",
       "      <td>2012</td>\n",
       "      <td>66400</td>\n",
       "      <td>Petrol</td>\n",
       "      <td>Manual</td>\n",
       "      <td>First</td>\n",
       "      <td>17.00</td>\n",
       "      <td>1086</td>\n",
       "      <td>NaN</td>\n",
       "      <td>5.0</td>\n",
       "      <td>2.66</td>\n",
       "      <td>Hyundai</td>\n",
       "      <td>Santro</td>\n",
       "    </tr>\n",
       "    <tr>\n",
       "      <th>3810</th>\n",
       "      <td>Honda CR-V AT With Sun Roof</td>\n",
       "      <td>Kolkata</td>\n",
       "      <td>2013</td>\n",
       "      <td>27000</td>\n",
       "      <td>Petrol</td>\n",
       "      <td>Automatic</td>\n",
       "      <td>First</td>\n",
       "      <td>14.00</td>\n",
       "      <td>2354</td>\n",
       "      <td>NaN</td>\n",
       "      <td>5.0</td>\n",
       "      <td>11.99</td>\n",
       "      <td>Honda</td>\n",
       "      <td>CR-V</td>\n",
       "    </tr>\n",
       "    <tr>\n",
       "      <th>4011</th>\n",
       "      <td>Fiat Punto 1.3 Emotion</td>\n",
       "      <td>Pune</td>\n",
       "      <td>2011</td>\n",
       "      <td>45271</td>\n",
       "      <td>Diesel</td>\n",
       "      <td>Manual</td>\n",
       "      <td>First</td>\n",
       "      <td>20.30</td>\n",
       "      <td>1300</td>\n",
       "      <td>NaN</td>\n",
       "      <td>5.0</td>\n",
       "      <td>2.60</td>\n",
       "      <td>Fiat</td>\n",
       "      <td>Punto</td>\n",
       "    </tr>\n",
       "    <tr>\n",
       "      <th>4152</th>\n",
       "      <td>Land Rover Range Rover 3.0 D</td>\n",
       "      <td>Mumbai</td>\n",
       "      <td>2003</td>\n",
       "      <td>75000</td>\n",
       "      <td>Diesel</td>\n",
       "      <td>Automatic</td>\n",
       "      <td>Second</td>\n",
       "      <td>12.70</td>\n",
       "      <td>3000</td>\n",
       "      <td>NaN</td>\n",
       "      <td>5.0</td>\n",
       "      <td>16.11</td>\n",
       "      <td>Land_Rover</td>\n",
       "      <td>Rover</td>\n",
       "    </tr>\n",
       "    <tr>\n",
       "      <th>4229</th>\n",
       "      <td>Hyundai Santro Xing XG</td>\n",
       "      <td>Bangalore</td>\n",
       "      <td>2005</td>\n",
       "      <td>79000</td>\n",
       "      <td>Petrol</td>\n",
       "      <td>Manual</td>\n",
       "      <td>Second</td>\n",
       "      <td>17.00</td>\n",
       "      <td>1086</td>\n",
       "      <td>NaN</td>\n",
       "      <td>5.0</td>\n",
       "      <td>1.65</td>\n",
       "      <td>Hyundai</td>\n",
       "      <td>Santro</td>\n",
       "    </tr>\n",
       "    <tr>\n",
       "      <th>4577</th>\n",
       "      <td>BMW 5 Series 520d Sedan</td>\n",
       "      <td>Delhi</td>\n",
       "      <td>2012</td>\n",
       "      <td>72000</td>\n",
       "      <td>Diesel</td>\n",
       "      <td>Automatic</td>\n",
       "      <td>Third</td>\n",
       "      <td>18.48</td>\n",
       "      <td>2000</td>\n",
       "      <td>NaN</td>\n",
       "      <td>5.0</td>\n",
       "      <td>13.85</td>\n",
       "      <td>BMW</td>\n",
       "      <td>5</td>\n",
       "    </tr>\n",
       "    <tr>\n",
       "      <th>4604</th>\n",
       "      <td>Honda Jazz Select Edition</td>\n",
       "      <td>Pune</td>\n",
       "      <td>2011</td>\n",
       "      <td>98000</td>\n",
       "      <td>Petrol</td>\n",
       "      <td>Manual</td>\n",
       "      <td>First</td>\n",
       "      <td>16.70</td>\n",
       "      <td>1198</td>\n",
       "      <td>NaN</td>\n",
       "      <td>5.0</td>\n",
       "      <td>3.15</td>\n",
       "      <td>Honda</td>\n",
       "      <td>Jazz</td>\n",
       "    </tr>\n",
       "    <tr>\n",
       "      <th>4697</th>\n",
       "      <td>Fiat Punto 1.2 Dynamic</td>\n",
       "      <td>Kochi</td>\n",
       "      <td>2017</td>\n",
       "      <td>17941</td>\n",
       "      <td>Petrol</td>\n",
       "      <td>Manual</td>\n",
       "      <td>First</td>\n",
       "      <td>15.70</td>\n",
       "      <td>1300</td>\n",
       "      <td>NaN</td>\n",
       "      <td>5.0</td>\n",
       "      <td>3.93</td>\n",
       "      <td>Fiat</td>\n",
       "      <td>Punto</td>\n",
       "    </tr>\n",
       "    <tr>\n",
       "      <th>4712</th>\n",
       "      <td>Hyundai Santro Xing XG</td>\n",
       "      <td>Pune</td>\n",
       "      <td>2003</td>\n",
       "      <td>80000</td>\n",
       "      <td>Petrol</td>\n",
       "      <td>Manual</td>\n",
       "      <td>Second</td>\n",
       "      <td>17.00</td>\n",
       "      <td>1086</td>\n",
       "      <td>NaN</td>\n",
       "      <td>5.0</td>\n",
       "      <td>0.90</td>\n",
       "      <td>Hyundai</td>\n",
       "      <td>Santro</td>\n",
       "    </tr>\n",
       "    <tr>\n",
       "      <th>4952</th>\n",
       "      <td>Fiat Punto 1.4 Emotion</td>\n",
       "      <td>Kolkata</td>\n",
       "      <td>2010</td>\n",
       "      <td>47000</td>\n",
       "      <td>Petrol</td>\n",
       "      <td>Manual</td>\n",
       "      <td>First</td>\n",
       "      <td>14.60</td>\n",
       "      <td>1300</td>\n",
       "      <td>NaN</td>\n",
       "      <td>5.0</td>\n",
       "      <td>1.49</td>\n",
       "      <td>Fiat</td>\n",
       "      <td>Punto</td>\n",
       "    </tr>\n",
       "    <tr>\n",
       "      <th>5015</th>\n",
       "      <td>Maruti Swift 1.3 VXi</td>\n",
       "      <td>Delhi</td>\n",
       "      <td>2006</td>\n",
       "      <td>63000</td>\n",
       "      <td>Petrol</td>\n",
       "      <td>Manual</td>\n",
       "      <td>First</td>\n",
       "      <td>16.10</td>\n",
       "      <td>1300</td>\n",
       "      <td>NaN</td>\n",
       "      <td>5.0</td>\n",
       "      <td>1.60</td>\n",
       "      <td>Maruti</td>\n",
       "      <td>Swift</td>\n",
       "    </tr>\n",
       "    <tr>\n",
       "      <th>5185</th>\n",
       "      <td>Maruti Swift 1.3 LXI</td>\n",
       "      <td>Delhi</td>\n",
       "      <td>2012</td>\n",
       "      <td>52000</td>\n",
       "      <td>Petrol</td>\n",
       "      <td>Manual</td>\n",
       "      <td>First</td>\n",
       "      <td>16.10</td>\n",
       "      <td>1300</td>\n",
       "      <td>NaN</td>\n",
       "      <td>5.0</td>\n",
       "      <td>3.65</td>\n",
       "      <td>Maruti</td>\n",
       "      <td>Swift</td>\n",
       "    </tr>\n",
       "    <tr>\n",
       "      <th>5270</th>\n",
       "      <td>Honda City 1.5 GXI</td>\n",
       "      <td>Bangalore</td>\n",
       "      <td>2002</td>\n",
       "      <td>53000</td>\n",
       "      <td>Petrol</td>\n",
       "      <td>Manual</td>\n",
       "      <td>Second</td>\n",
       "      <td>16.72</td>\n",
       "      <td>1500</td>\n",
       "      <td>NaN</td>\n",
       "      <td>5.0</td>\n",
       "      <td>1.85</td>\n",
       "      <td>Honda</td>\n",
       "      <td>City</td>\n",
       "    </tr>\n",
       "  </tbody>\n",
       "</table>\n",
       "</div>"
      ],
      "text/plain": [
       "                                              name        city  year     kms  \\\n",
       "194                             Honda City 1.5 GXI   Ahmedabad  2007   60006   \n",
       "208                           Maruti Swift 1.3 VXi     Kolkata  2010   42001   \n",
       "733                           Maruti Swift 1.3 VXi     Chennai  2006   97800   \n",
       "749                   Land Rover Range Rover 3.0 D      Mumbai  2008   55001   \n",
       "1294                             Honda City 1.3 DX       Delhi  2009   55005   \n",
       "1327                          Maruti Swift 1.3 ZXI   Hyderabad  2015   50295   \n",
       "1385                            Honda City 1.5 GXI        Pune  2004  115000   \n",
       "1460  Land Rover Range Rover Sport 2005 2012 Sport  Coimbatore  2008   69078   \n",
       "2074                          Maruti Swift 1.3 LXI        Pune  2011   24255   \n",
       "2096                     Hyundai Santro LP zipPlus  Coimbatore  2004   52146   \n",
       "2264                           Toyota Etios Liva V        Pune  2012   24500   \n",
       "2325                      Maruti Swift 1.3 VXI ABS        Pune  2015   67000   \n",
       "2335                          Maruti Swift 1.3 VXi      Mumbai  2007   55000   \n",
       "2530                       BMW 5 Series 520d Sedan       Kochi  2014   64158   \n",
       "2542               Hyundai Santro GLS II - Euro II   Bangalore  2011   65000   \n",
       "2623                       BMW 5 Series 520d Sedan        Pune  2012   95000   \n",
       "2668                          Maruti Swift 1.3 VXi     Kolkata  2014   32986   \n",
       "2737                             Maruti Wagon R Vx      Jaipur  2001  200000   \n",
       "2780               Hyundai Santro GLS II - Euro II        Pune  2009  100000   \n",
       "2842               Hyundai Santro GLS II - Euro II   Bangalore  2012   43000   \n",
       "3272                       BMW 5 Series 520d Sedan      Mumbai  2008   81000   \n",
       "3404                          Maruti Swift 1.3 VXi      Jaipur  2006  125000   \n",
       "3520                       BMW 5 Series 520d Sedan       Delhi  2012   90000   \n",
       "3522               Hyundai Santro GLS II - Euro II       Kochi  2012   66400   \n",
       "3810                   Honda CR-V AT With Sun Roof     Kolkata  2013   27000   \n",
       "4011                        Fiat Punto 1.3 Emotion        Pune  2011   45271   \n",
       "4152                  Land Rover Range Rover 3.0 D      Mumbai  2003   75000   \n",
       "4229                        Hyundai Santro Xing XG   Bangalore  2005   79000   \n",
       "4577                       BMW 5 Series 520d Sedan       Delhi  2012   72000   \n",
       "4604                     Honda Jazz Select Edition        Pune  2011   98000   \n",
       "4697                        Fiat Punto 1.2 Dynamic       Kochi  2017   17941   \n",
       "4712                        Hyundai Santro Xing XG        Pune  2003   80000   \n",
       "4952                        Fiat Punto 1.4 Emotion     Kolkata  2010   47000   \n",
       "5015                          Maruti Swift 1.3 VXi       Delhi  2006   63000   \n",
       "5185                          Maruti Swift 1.3 LXI       Delhi  2012   52000   \n",
       "5270                            Honda City 1.5 GXI   Bangalore  2002   53000   \n",
       "\n",
       "        fuel transmission           owner  mileage  engine power  seats  \\\n",
       "194   Petrol       Manual           First    16.72    1500   NaN    5.0   \n",
       "208   Petrol       Manual           First    16.10    1300   NaN    5.0   \n",
       "733   Petrol       Manual           Third    16.10    1300   NaN    5.0   \n",
       "749   Diesel    Automatic          Second    12.70    3000   NaN    5.0   \n",
       "1294  Petrol       Manual           First    12.80    1500   NaN    5.0   \n",
       "1327  Petrol       Manual           First    16.10    1300   NaN    5.0   \n",
       "1385  Petrol       Manual          Second    16.72    1500   NaN    5.0   \n",
       "1460  Petrol       Manual           First    12.70    3000   NaN    5.0   \n",
       "2074  Petrol       Manual           First    16.10    1300   NaN    5.0   \n",
       "2096  Petrol       Manual           First    17.00    1086   NaN    5.0   \n",
       "2264  Petrol       Manual          Second    18.30    1197   NaN    5.0   \n",
       "2325  Petrol       Manual           First    16.10    1300   NaN    5.0   \n",
       "2335  Petrol       Manual          Second    16.10    1300   NaN    5.0   \n",
       "2530  Diesel    Automatic           First    18.48    2000   NaN    5.0   \n",
       "2542  Petrol       Manual          Second    17.00    1086   NaN    5.0   \n",
       "2623  Diesel    Automatic          Second    18.48    2000   NaN    5.0   \n",
       "2668  Petrol       Manual           First    16.10    1300   NaN    5.0   \n",
       "2737  Petrol       Manual           First    12.00     998   NaN    7.0   \n",
       "2780  Petrol       Manual           First    17.00    1086   NaN    5.0   \n",
       "2842  Petrol       Manual           First    17.00    1086   NaN    5.0   \n",
       "3272  Diesel    Automatic          Second    18.48    2000   NaN    5.0   \n",
       "3404  Petrol       Manual  Fourth & Above    16.10    1300   NaN    5.0   \n",
       "3520  Diesel    Automatic           First    18.48    2000   NaN    5.0   \n",
       "3522  Petrol       Manual           First    17.00    1086   NaN    5.0   \n",
       "3810  Petrol    Automatic           First    14.00    2354   NaN    5.0   \n",
       "4011  Diesel       Manual           First    20.30    1300   NaN    5.0   \n",
       "4152  Diesel    Automatic          Second    12.70    3000   NaN    5.0   \n",
       "4229  Petrol       Manual          Second    17.00    1086   NaN    5.0   \n",
       "4577  Diesel    Automatic           Third    18.48    2000   NaN    5.0   \n",
       "4604  Petrol       Manual           First    16.70    1198   NaN    5.0   \n",
       "4697  Petrol       Manual           First    15.70    1300   NaN    5.0   \n",
       "4712  Petrol       Manual          Second    17.00    1086   NaN    5.0   \n",
       "4952  Petrol       Manual           First    14.60    1300   NaN    5.0   \n",
       "5015  Petrol       Manual           First    16.10    1300   NaN    5.0   \n",
       "5185  Petrol       Manual           First    16.10    1300   NaN    5.0   \n",
       "5270  Petrol       Manual          Second    16.72    1500   NaN    5.0   \n",
       "\n",
       "      price       brand   model  \n",
       "194    2.95       Honda    City  \n",
       "208    2.11      Maruti   Swift  \n",
       "733    1.75      Maruti   Swift  \n",
       "749   26.50  Land_Rover   Rover  \n",
       "1294   3.20       Honda    City  \n",
       "1327   5.80      Maruti   Swift  \n",
       "1385   1.50       Honda    City  \n",
       "1460  40.88  Land_Rover   Rover  \n",
       "2074   3.15      Maruti   Swift  \n",
       "2096   1.93     Hyundai  Santro  \n",
       "2264   2.95      Toyota   Etios  \n",
       "2325   4.70      Maruti   Swift  \n",
       "2335   1.75      Maruti   Swift  \n",
       "2530  17.89         BMW       5  \n",
       "2542   3.15     Hyundai  Santro  \n",
       "2623  18.00         BMW       5  \n",
       "2668   4.24      Maruti   Swift  \n",
       "2737   0.70      Maruti   Wagon  \n",
       "2780   1.60     Hyundai  Santro  \n",
       "2842   3.25     Hyundai  Santro  \n",
       "3272  10.50         BMW       5  \n",
       "3404   2.35      Maruti   Swift  \n",
       "3520  14.50         BMW       5  \n",
       "3522   2.66     Hyundai  Santro  \n",
       "3810  11.99       Honda    CR-V  \n",
       "4011   2.60        Fiat   Punto  \n",
       "4152  16.11  Land_Rover   Rover  \n",
       "4229   1.65     Hyundai  Santro  \n",
       "4577  13.85         BMW       5  \n",
       "4604   3.15       Honda    Jazz  \n",
       "4697   3.93        Fiat   Punto  \n",
       "4712   0.90     Hyundai  Santro  \n",
       "4952   1.49        Fiat   Punto  \n",
       "5015   1.60      Maruti   Swift  \n",
       "5185   3.65      Maruti   Swift  \n",
       "5270   1.85       Honda    City  "
      ]
     },
     "execution_count": 106,
     "metadata": {},
     "output_type": "execute_result"
    }
   ],
   "source": [
    "cars[cars['power'].isnull()]"
   ]
  },
  {
   "cell_type": "markdown",
   "metadata": {},
   "source": [
    "## Manual handling of null values ( data derived from cardekho.com)"
   ]
  },
  {
   "cell_type": "code",
   "execution_count": 107,
   "metadata": {},
   "outputs": [],
   "source": [
    "#cars.loc[(cars['model'] == 'New') & (cars['brand'] == 'Mercedes-Benz'), 'model'] = 'C-Class'\n",
    "#cars[cars['engine'].isnull()].loc[cars[\"model\"]==\"Swift\",\"engine\"]=1300\n",
    "le=cars[\"power\"].isnull()\n",
    "#print(le)\n",
    "col_name=\"power\"\n",
    "cars.loc[76,col_name]=67\n",
    "cars.loc[79,col_name]=62\n",
    "\n",
    "for i in range(len(cars)):\n",
    "    if le[i]==True or cars.loc[i,\"power\"]=='null':\n",
    "        if cars[\"model\"][i]==\"Swift\":\n",
    "            cars.loc[i,col_name]=75\n",
    "        elif cars[\"model\"][i]==\"City\":\n",
    "            if cars[\"fuel\"][i]==\"Petrol\":\n",
    "                cars.loc[i,col_name]=117.3\n",
    "            else:\n",
    "                cars.loc[i,col_name]=98.6\n",
    "        elif cars[\"model\"][i]==\"Santro\":\n",
    "            cars.loc[i,col_name]=62          \n",
    "        elif cars[\"model\"][i]==\"Jazz\":\n",
    "            if cars[\"fuel\"][i]==\"Petrol\":\n",
    "                cars.loc[i,col_name]=88.7\n",
    "            else:\n",
    "                cars[col_name][i]=98.6\n",
    "        elif cars[\"model\"][i]==\"Punto\":\n",
    "            cars.loc[i,col_name]=67\n",
    "        elif cars[\"model\"][i]==\"5\":\n",
    "            cars.loc[i,col_name]=200\n",
    "        elif cars[\"model\"][i]==\"Etios\":\n",
    "            cars.loc[i,col_name]=78.9\n",
    "        elif cars[\"model\"][i]==\"Wagon-R\" or cars[\"model\"][i]=='Wagon':\n",
    "            cars.loc[i,col_name]=67.1\n",
    "        elif cars[\"model\"][i]==\"CR-V\":\n",
    "            cars.loc[i,col_name]=152\n",
    "        elif cars[\"name\"][i]==\"Land Rover Range Rover 3.0 D\":\n",
    "            cars.loc[i,col_name]=255\n",
    "        elif cars[\"model\"][i]==\"Rover\":\n",
    "            cars.loc[i,col_name]=503\n",
    "        elif cars[\"model\"][i]==\"Estilo\":\n",
    "            cars.loc[i,col_name]=68\n",
    "        elif cars[\"model\"][i]==\"Qualis\":\n",
    "            cars.loc[i,col_name]=75\n",
    "        elif cars[\"model\"][i]==\"E-Class\":\n",
    "            cars.loc[i,col_name]=192\n",
    "        elif cars[\"model\"][i]==\"Esteem\":\n",
    "            cars.loc[i,col_name]=85\n",
    "        elif cars[\"model\"][i]==\"Indica\":\n",
    "            cars.loc[i,col_name]=69\n",
    "        elif cars[\"model\"][i]==\"Jeep\":\n",
    "            cars.loc[i,col_name]=62\n",
    "        elif cars[\"model\"][i]==\"Petra\":\n",
    "            cars.loc[i,col_name]=72\n",
    "        elif cars[\"model\"][i]==\"100\":\n",
    "            cars.loc[i,col_name]=37\n",
    "        elif cars[\"model\"][i]==\"Cayman\":\n",
    "            cars.loc[i,col_name]=320\n",
    "        elif cars[\"model\"][i]==\"Laura\":\n",
    "            cars.loc[i,col_name]=160\n",
    "        elif cars[\"model\"][i]==\"Optra\":\n",
    "            cars.loc[i,col_name]=110\n",
    "        elif cars[\"model\"][i]==\"A4\":\n",
    "            cars.loc[i,col_name]=265\n",
    "        elif cars[\"model\"][i]==\"Jetta\":\n",
    "            cars.loc[i,col_name]=105\n",
    "        elif cars[\"model\"][i]==\"Micra\":\n",
    "            cars.loc[i,col_name]=63.1\n",
    "        elif cars[\"model\"][i]==\"1000\":\n",
    "            cars.loc[i,col_name]=32\n",
    "        elif cars[\"model\"][i]==\"Bolero\":\n",
    "            cars.loc[i,col_name]=63\n",
    "        elif cars[\"model\"][i]==\"Siena\":\n",
    "            cars.loc[i,col_name]=45\n",
    "        elif cars[\"model\"][i]==\"Teana\":\n",
    "            cars.loc[i,col_name]=179.5\n",
    "        elif cars[\"name\"][i]==\"Ford Endeavour Hurricane LE\":\n",
    "            cars.loc[i,col_name]=156\n",
    "        elif cars[\"model\"][i]==\"Endeavour\":\n",
    "            cars.loc[i,col_name]=141\n",
    "        elif cars[\"model\"][i]==\"Fortwo\":\n",
    "            cars.loc[i,col_name]=85\n",
    "        else:\n",
    "            cars.loc[i,col_name]=80"
   ]
  },
  {
   "cell_type": "code",
   "execution_count": 108,
   "metadata": {},
   "outputs": [],
   "source": [
    "col_name=\"power\"\n",
    "for i in range(len(cars)):\n",
    "    st=cars[\"power\"][i]\n",
    "    a=4.1\n",
    "    b=3\n",
    "    if type(st)!=type(a) and type(st)!=type(b):\n",
    "        le=\"\"\n",
    "        for j in st:\n",
    "            if j==' ':\n",
    "                break\n",
    "            le=le+j\n",
    "        cars.loc[i,col_name]=le"
   ]
  },
  {
   "cell_type": "code",
   "execution_count": 109,
   "metadata": {},
   "outputs": [],
   "source": [
    "#cars.loc[(cars['model'] == 'New') & (cars['brand'] == 'Mercedes-Benz'), 'model'] = 'C-Class'\n",
    "#cars[cars['engine'].isnull()].loc[cars[\"model\"]==\"Swift\",\"engine\"]=1300\n",
    "le=cars[\"power\"].isnull()\n",
    "#print(le)\n",
    "col_name=\"power\"\n",
    "cars.loc[76,col_name]=67\n",
    "cars.loc[79,col_name]=62\n",
    "\n",
    "for i in range(len(cars)):\n",
    "    if le[i]==True or cars.loc[i,\"power\"]=='null':\n",
    "        if cars[\"model\"][i]==\"Swift\":\n",
    "            cars.loc[i,col_name]=75\n",
    "        elif cars[\"model\"][i]==\"City\":\n",
    "            if cars[\"fuel\"][i]==\"Petrol\":\n",
    "                cars.loc[i,col_name]=117.3\n",
    "            else:\n",
    "                cars.loc[i,col_name]=98.6\n",
    "        elif cars[\"model\"][i]==\"Santro\":\n",
    "            cars.loc[i,col_name]=62          \n",
    "        elif cars[\"model\"][i]==\"Jazz\":\n",
    "            if cars[\"fuel\"][i]==\"Petrol\":\n",
    "                cars.loc[i,col_name]=88.7\n",
    "            else:\n",
    "                cars[col_name][i]=98.6\n",
    "        elif cars[\"model\"][i]==\"Punto\":\n",
    "            cars.loc[i,col_name]=67\n",
    "        elif cars[\"model\"][i]==\"5\":\n",
    "            cars.loc[i,col_name]=200\n",
    "        elif cars[\"model\"][i]==\"Etios\":\n",
    "            cars.loc[i,col_name]=78.9\n",
    "        elif cars[\"model\"][i]==\"Wagon-R\" or cars[\"model\"][i]=='Wagon':\n",
    "            cars.loc[i,col_name]=67.1\n",
    "        elif cars[\"model\"][i]==\"CR-V\":\n",
    "            cars.loc[i,col_name]=152\n",
    "        elif cars[\"name\"][i]==\"Land Rover Range Rover 3.0 D\":\n",
    "            cars.loc[i,col_name]=255\n",
    "        elif cars[\"model\"][i]==\"Rover\":\n",
    "            cars.loc[i,col_name]=503\n",
    "        elif cars[\"model\"][i]==\"Estilo\":\n",
    "            cars.loc[i,col_name]=68\n",
    "        elif cars[\"model\"][i]==\"Qualis\":\n",
    "            cars.loc[i,col_name]=75\n",
    "        elif cars[\"model\"][i]==\"E-Class\":\n",
    "            cars.loc[i,col_name]=192\n",
    "        elif cars[\"model\"][i]==\"Esteem\":\n",
    "            cars.loc[i,col_name]=85\n",
    "        elif cars[\"model\"][i]==\"Indica\":\n",
    "            cars.loc[i,col_name]=69\n",
    "        elif cars[\"model\"][i]==\"Jeep\":\n",
    "            cars.loc[i,col_name]=62\n",
    "        elif cars[\"model\"][i]==\"Petra\":\n",
    "            cars.loc[i,col_name]=72\n",
    "        elif cars[\"model\"][i]==\"100\":\n",
    "            cars.loc[i,col_name]=37\n",
    "        elif cars[\"model\"][i]==\"Cayman\":\n",
    "            cars.loc[i,col_name]=320\n",
    "        elif cars[\"model\"][i]==\"Laura\":\n",
    "            cars.loc[i,col_name]=160\n",
    "        elif cars[\"model\"][i]==\"Optra\":\n",
    "            cars.loc[i,col_name]=110\n",
    "        elif cars[\"model\"][i]==\"A4\":\n",
    "            cars.loc[i,col_name]=265\n",
    "        elif cars[\"model\"][i]==\"Jetta\":\n",
    "            cars.loc[i,col_name]=105\n",
    "        elif cars[\"model\"][i]==\"Micra\":\n",
    "            cars.loc[i,col_name]=63.1\n",
    "        elif cars[\"model\"][i]==\"1000\":\n",
    "            cars.loc[i,col_name]=32\n",
    "        elif cars[\"model\"][i]==\"Bolero\":\n",
    "            cars.loc[i,col_name]=63\n",
    "        elif cars[\"model\"][i]==\"Siena\":\n",
    "            cars.loc[i,col_name]=45\n",
    "        elif cars[\"model\"][i]==\"Teana\":\n",
    "            cars.loc[i,col_name]=179.5\n",
    "        elif cars[\"name\"][i]==\"Ford Endeavour Hurricane LE\":\n",
    "            cars.loc[i,col_name]=156\n",
    "        elif cars[\"model\"][i]==\"Endeavour\":\n",
    "            cars.loc[i,col_name]=141\n",
    "        elif cars[\"model\"][i]==\"Fortwo\":\n",
    "            cars.loc[i,col_name]=85\n",
    "        else:\n",
    "            cars.loc[i,col_name]=80\n",
    "            \n",
    "col_name=\"power\"\n",
    "for i in range(len(cars)):\n",
    "    st=cars[\"power\"][i]\n",
    "    a=4.1\n",
    "    b=3\n",
    "    if type(st)!=type(a) and type(st)!=type(b):\n",
    "        le=\"\"\n",
    "        for j in st:\n",
    "            if j==' ':\n",
    "                break\n",
    "            le=le+j\n",
    "        cars.loc[i,col_name]=le"
   ]
  },
  {
   "cell_type": "code",
   "execution_count": 110,
   "metadata": {},
   "outputs": [],
   "source": [
    "cars[\"power\"]=pd.to_numeric(cars[\"power\"])"
   ]
  },
  {
   "cell_type": "markdown",
   "metadata": {},
   "source": [
    "## There seems to be a high correlation between engine and power\n",
    "Hence, it seems fair to drop one of the columns ( let's say the power column). Even though it analytically does not seem to matter to the Random Forest Algorithm whether two columns are correlated or not, we will drop the \"power: column anyway for sake of simplicity."
   ]
  },
  {
   "cell_type": "code",
   "execution_count": 111,
   "metadata": {
    "scrolled": false
   },
   "outputs": [
    {
     "data": {
      "text/html": [
       "<div>\n",
       "<style scoped>\n",
       "    .dataframe tbody tr th:only-of-type {\n",
       "        vertical-align: middle;\n",
       "    }\n",
       "\n",
       "    .dataframe tbody tr th {\n",
       "        vertical-align: top;\n",
       "    }\n",
       "\n",
       "    .dataframe thead th {\n",
       "        text-align: right;\n",
       "    }\n",
       "</style>\n",
       "<table border=\"1\" class=\"dataframe\">\n",
       "  <thead>\n",
       "    <tr style=\"text-align: right;\">\n",
       "      <th></th>\n",
       "      <th>year</th>\n",
       "      <th>kms</th>\n",
       "      <th>mileage</th>\n",
       "      <th>engine</th>\n",
       "      <th>power</th>\n",
       "      <th>seats</th>\n",
       "      <th>price</th>\n",
       "    </tr>\n",
       "  </thead>\n",
       "  <tbody>\n",
       "    <tr>\n",
       "      <th>year</th>\n",
       "      <td>1.000000</td>\n",
       "      <td>-0.173048</td>\n",
       "      <td>0.295254</td>\n",
       "      <td>-0.050621</td>\n",
       "      <td>0.031420</td>\n",
       "      <td>0.013465</td>\n",
       "      <td>0.305327</td>\n",
       "    </tr>\n",
       "    <tr>\n",
       "      <th>kms</th>\n",
       "      <td>-0.173048</td>\n",
       "      <td>1.000000</td>\n",
       "      <td>-0.064611</td>\n",
       "      <td>0.090577</td>\n",
       "      <td>0.030449</td>\n",
       "      <td>0.083675</td>\n",
       "      <td>-0.011493</td>\n",
       "    </tr>\n",
       "    <tr>\n",
       "      <th>mileage</th>\n",
       "      <td>0.295254</td>\n",
       "      <td>-0.064611</td>\n",
       "      <td>1.000000</td>\n",
       "      <td>-0.643276</td>\n",
       "      <td>-0.544305</td>\n",
       "      <td>-0.340743</td>\n",
       "      <td>-0.336008</td>\n",
       "    </tr>\n",
       "    <tr>\n",
       "      <th>engine</th>\n",
       "      <td>-0.050621</td>\n",
       "      <td>0.090577</td>\n",
       "      <td>-0.643276</td>\n",
       "      <td>1.000000</td>\n",
       "      <td>0.864576</td>\n",
       "      <td>0.392469</td>\n",
       "      <td>0.659314</td>\n",
       "    </tr>\n",
       "    <tr>\n",
       "      <th>power</th>\n",
       "      <td>0.031420</td>\n",
       "      <td>0.030449</td>\n",
       "      <td>-0.544305</td>\n",
       "      <td>0.864576</td>\n",
       "      <td>1.000000</td>\n",
       "      <td>0.092668</td>\n",
       "      <td>0.772950</td>\n",
       "    </tr>\n",
       "    <tr>\n",
       "      <th>seats</th>\n",
       "      <td>0.013465</td>\n",
       "      <td>0.083675</td>\n",
       "      <td>-0.340743</td>\n",
       "      <td>0.392469</td>\n",
       "      <td>0.092668</td>\n",
       "      <td>1.000000</td>\n",
       "      <td>0.052358</td>\n",
       "    </tr>\n",
       "    <tr>\n",
       "      <th>price</th>\n",
       "      <td>0.305327</td>\n",
       "      <td>-0.011493</td>\n",
       "      <td>-0.336008</td>\n",
       "      <td>0.659314</td>\n",
       "      <td>0.772950</td>\n",
       "      <td>0.052358</td>\n",
       "      <td>1.000000</td>\n",
       "    </tr>\n",
       "  </tbody>\n",
       "</table>\n",
       "</div>"
      ],
      "text/plain": [
       "             year       kms   mileage    engine     power     seats     price\n",
       "year     1.000000 -0.173048  0.295254 -0.050621  0.031420  0.013465  0.305327\n",
       "kms     -0.173048  1.000000 -0.064611  0.090577  0.030449  0.083675 -0.011493\n",
       "mileage  0.295254 -0.064611  1.000000 -0.643276 -0.544305 -0.340743 -0.336008\n",
       "engine  -0.050621  0.090577 -0.643276  1.000000  0.864576  0.392469  0.659314\n",
       "power    0.031420  0.030449 -0.544305  0.864576  1.000000  0.092668  0.772950\n",
       "seats    0.013465  0.083675 -0.340743  0.392469  0.092668  1.000000  0.052358\n",
       "price    0.305327 -0.011493 -0.336008  0.659314  0.772950  0.052358  1.000000"
      ]
     },
     "execution_count": 111,
     "metadata": {},
     "output_type": "execute_result"
    }
   ],
   "source": [
    "cars.corr()"
   ]
  },
  {
   "cell_type": "code",
   "execution_count": 112,
   "metadata": {},
   "outputs": [],
   "source": [
    "cars.to_excel(\"ideal.xlsx\") "
   ]
  },
  {
   "cell_type": "markdown",
   "metadata": {},
   "source": [
    "---"
   ]
  },
  {
   "cell_type": "markdown",
   "metadata": {},
   "source": [
    "## Viewing the unique value of all the columns along with frequency count"
   ]
  },
  {
   "cell_type": "code",
   "execution_count": 113,
   "metadata": {},
   "outputs": [
    {
     "name": "stdout",
     "output_type": "stream",
     "text": [
      "Number of unique values for name is 1876\n",
      "Number of unique values for city is 11\n",
      "Number of unique values for year is 22\n",
      "Number of unique values for kms is 3093\n",
      "Number of unique values for fuel is 5\n",
      "Number of unique values for transmission is 2\n",
      "Number of unique values for owner is 4\n",
      "Number of unique values for mileage is 434\n",
      "Number of unique values for engine is 150\n",
      "Number of unique values for power is 372\n",
      "Number of unique values for seats is 9\n",
      "Number of unique values for price is 1373\n",
      "Number of unique values for brand is 30\n",
      "Number of unique values for model is 212\n"
     ]
    }
   ],
   "source": [
    "for i in cars.columns:\n",
    "    print(\"Number of unique values for {} is {}\".format(i,len(cars[i].unique())))"
   ]
  },
  {
   "cell_type": "markdown",
   "metadata": {},
   "source": [
    "# ---------------------------------------------------------------------------------------------------------"
   ]
  },
  {
   "cell_type": "markdown",
   "metadata": {},
   "source": [
    "# Random Forest\n",
    "Random forest is a supervised learning algorithm. The \"forest\" it builds, is an ensemble of decision trees, usually trained with the “bagging” method. The general idea of the bagging method is that a combination of learning models increases the overall result.\n",
    "\n",
    "Put simply: random forest builds multiple decision trees and merges them together to get a more accurate and stable prediction."
   ]
  },
  {
   "cell_type": "code",
   "execution_count": 114,
   "metadata": {},
   "outputs": [],
   "source": [
    "cars2=cars.copy()\n",
    "\n",
    "# columns to be dropped\n",
    "master_list=['name','power','mileage','city']\n",
    "cars2=cars2.drop(master_list, axis=1)"
   ]
  },
  {
   "cell_type": "markdown",
   "metadata": {},
   "source": [
    "### One-Hot Vectorization\n",
    "We converted the categorical data into one-hot vectors. "
   ]
  },
  {
   "cell_type": "code",
   "execution_count": 115,
   "metadata": {},
   "outputs": [],
   "source": [
    "cars2=pd.get_dummies(cars2)"
   ]
  },
  {
   "cell_type": "code",
   "execution_count": 116,
   "metadata": {},
   "outputs": [],
   "source": [
    "col_now=list(cars2.columns)\n",
    "col_now.remove(\"price\")\n",
    "train_cols=col_now"
   ]
  },
  {
   "cell_type": "code",
   "execution_count": 117,
   "metadata": {},
   "outputs": [],
   "source": [
    "from sklearn.model_selection import train_test_split\n",
    "X = cars2[col_now]\n",
    "y = cars2['price']\n",
    "\n",
    "# split into train and test sets\n",
    "'''Since this is the training set and the testing set is being explicitly exported below,\n",
    "so for checking purposes, the initial training set is being reduced to just 0.0005 of the original size'''\n",
    "X_train, X_test, y_train, y_test = train_test_split(X, y, test_size=0.0005, random_state=36062)"
   ]
  },
  {
   "cell_type": "code",
   "execution_count": 118,
   "metadata": {},
   "outputs": [
    {
     "data": {
      "text/html": [
       "<div>\n",
       "<style scoped>\n",
       "    .dataframe tbody tr th:only-of-type {\n",
       "        vertical-align: middle;\n",
       "    }\n",
       "\n",
       "    .dataframe tbody tr th {\n",
       "        vertical-align: top;\n",
       "    }\n",
       "\n",
       "    .dataframe thead th {\n",
       "        text-align: right;\n",
       "    }\n",
       "</style>\n",
       "<table border=\"1\" class=\"dataframe\">\n",
       "  <thead>\n",
       "    <tr style=\"text-align: right;\">\n",
       "      <th></th>\n",
       "      <th>year</th>\n",
       "      <th>kms</th>\n",
       "      <th>engine</th>\n",
       "      <th>seats</th>\n",
       "      <th>fuel_CNG</th>\n",
       "      <th>fuel_Diesel</th>\n",
       "      <th>fuel_Electric</th>\n",
       "      <th>fuel_LPG</th>\n",
       "      <th>fuel_Petrol</th>\n",
       "      <th>transmission_Automatic</th>\n",
       "      <th>...</th>\n",
       "      <th>model_Xcent</th>\n",
       "      <th>model_Xenon</th>\n",
       "      <th>model_Xylo</th>\n",
       "      <th>model_Yeti</th>\n",
       "      <th>model_Z4</th>\n",
       "      <th>model_Zen</th>\n",
       "      <th>model_Zest</th>\n",
       "      <th>model_i10</th>\n",
       "      <th>model_i20</th>\n",
       "      <th>model_redi-GO</th>\n",
       "    </tr>\n",
       "  </thead>\n",
       "  <tbody>\n",
       "    <tr>\n",
       "      <th>1073</th>\n",
       "      <td>2013</td>\n",
       "      <td>67443</td>\n",
       "      <td>1248</td>\n",
       "      <td>7.0</td>\n",
       "      <td>0</td>\n",
       "      <td>1</td>\n",
       "      <td>0</td>\n",
       "      <td>0</td>\n",
       "      <td>0</td>\n",
       "      <td>0</td>\n",
       "      <td>...</td>\n",
       "      <td>0</td>\n",
       "      <td>0</td>\n",
       "      <td>0</td>\n",
       "      <td>0</td>\n",
       "      <td>0</td>\n",
       "      <td>0</td>\n",
       "      <td>0</td>\n",
       "      <td>0</td>\n",
       "      <td>0</td>\n",
       "      <td>0</td>\n",
       "    </tr>\n",
       "    <tr>\n",
       "      <th>2268</th>\n",
       "      <td>2013</td>\n",
       "      <td>25984</td>\n",
       "      <td>1499</td>\n",
       "      <td>5.0</td>\n",
       "      <td>0</td>\n",
       "      <td>0</td>\n",
       "      <td>0</td>\n",
       "      <td>0</td>\n",
       "      <td>1</td>\n",
       "      <td>0</td>\n",
       "      <td>...</td>\n",
       "      <td>0</td>\n",
       "      <td>0</td>\n",
       "      <td>0</td>\n",
       "      <td>0</td>\n",
       "      <td>0</td>\n",
       "      <td>0</td>\n",
       "      <td>0</td>\n",
       "      <td>0</td>\n",
       "      <td>0</td>\n",
       "      <td>0</td>\n",
       "    </tr>\n",
       "    <tr>\n",
       "      <th>1159</th>\n",
       "      <td>2018</td>\n",
       "      <td>50234</td>\n",
       "      <td>1197</td>\n",
       "      <td>5.0</td>\n",
       "      <td>0</td>\n",
       "      <td>0</td>\n",
       "      <td>0</td>\n",
       "      <td>0</td>\n",
       "      <td>1</td>\n",
       "      <td>0</td>\n",
       "      <td>...</td>\n",
       "      <td>0</td>\n",
       "      <td>0</td>\n",
       "      <td>0</td>\n",
       "      <td>0</td>\n",
       "      <td>0</td>\n",
       "      <td>0</td>\n",
       "      <td>0</td>\n",
       "      <td>0</td>\n",
       "      <td>0</td>\n",
       "      <td>0</td>\n",
       "    </tr>\n",
       "    <tr>\n",
       "      <th>952</th>\n",
       "      <td>2018</td>\n",
       "      <td>92056</td>\n",
       "      <td>2393</td>\n",
       "      <td>7.0</td>\n",
       "      <td>0</td>\n",
       "      <td>1</td>\n",
       "      <td>0</td>\n",
       "      <td>0</td>\n",
       "      <td>0</td>\n",
       "      <td>0</td>\n",
       "      <td>...</td>\n",
       "      <td>0</td>\n",
       "      <td>0</td>\n",
       "      <td>0</td>\n",
       "      <td>0</td>\n",
       "      <td>0</td>\n",
       "      <td>0</td>\n",
       "      <td>0</td>\n",
       "      <td>0</td>\n",
       "      <td>0</td>\n",
       "      <td>0</td>\n",
       "    </tr>\n",
       "  </tbody>\n",
       "</table>\n",
       "<p>4 rows × 257 columns</p>\n",
       "</div>"
      ],
      "text/plain": [
       "      year    kms  engine  seats  fuel_CNG  fuel_Diesel  fuel_Electric  \\\n",
       "1073  2013  67443    1248    7.0         0            1              0   \n",
       "2268  2013  25984    1499    5.0         0            0              0   \n",
       "1159  2018  50234    1197    5.0         0            0              0   \n",
       "952   2018  92056    2393    7.0         0            1              0   \n",
       "\n",
       "      fuel_LPG  fuel_Petrol  transmission_Automatic  ...  model_Xcent  \\\n",
       "1073         0            0                       0  ...            0   \n",
       "2268         0            1                       0  ...            0   \n",
       "1159         0            1                       0  ...            0   \n",
       "952          0            0                       0  ...            0   \n",
       "\n",
       "      model_Xenon  model_Xylo  model_Yeti  model_Z4  model_Zen  model_Zest  \\\n",
       "1073            0           0           0         0          0           0   \n",
       "2268            0           0           0         0          0           0   \n",
       "1159            0           0           0         0          0           0   \n",
       "952             0           0           0         0          0           0   \n",
       "\n",
       "      model_i10  model_i20  model_redi-GO  \n",
       "1073          0          0              0  \n",
       "2268          0          0              0  \n",
       "1159          0          0              0  \n",
       "952           0          0              0  \n",
       "\n",
       "[4 rows x 257 columns]"
      ]
     },
     "execution_count": 118,
     "metadata": {},
     "output_type": "execute_result"
    }
   ],
   "source": [
    "X_test.loc[:]"
   ]
  },
  {
   "cell_type": "code",
   "execution_count": 119,
   "metadata": {},
   "outputs": [],
   "source": [
    "from sklearn.preprocessing import StandardScaler\n",
    "\n",
    "sc = StandardScaler()\n",
    "X_train = sc.fit_transform(X_train)\n",
    "X_test = sc.transform(X_test)"
   ]
  },
  {
   "cell_type": "code",
   "execution_count": 120,
   "metadata": {
    "scrolled": true
   },
   "outputs": [
    {
     "name": "stdout",
     "output_type": "stream",
     "text": [
      "(4, 257)\n"
     ]
    }
   ],
   "source": [
    "print(X_test.shape)"
   ]
  },
  {
   "cell_type": "code",
   "execution_count": 121,
   "metadata": {},
   "outputs": [],
   "source": [
    "from sklearn.ensemble import RandomForestRegressor\n",
    "\n",
    "regressor = RandomForestRegressor(n_estimators=100, random_state=32321)\n",
    "regressor.fit(X_train, y_train)\n",
    "y_pred = regressor.predict(X_test)"
   ]
  },
  {
   "cell_type": "code",
   "execution_count": 122,
   "metadata": {},
   "outputs": [
    {
     "name": "stdout",
     "output_type": "stream",
     "text": [
      "Mean Absolute Error: 0.6224249999999945\n",
      "Mean Squared Error: 0.4223219624999923\n",
      "Root Mean Squared Error: 0.6498630336463156\n"
     ]
    }
   ],
   "source": [
    "from sklearn import metrics\n",
    "\n",
    "print('Mean Absolute Error:', metrics.mean_absolute_error(y_test, y_pred))\n",
    "print('Mean Squared Error:', metrics.mean_squared_error(y_test, y_pred))\n",
    "print('Root Mean Squared Error:', np.sqrt(metrics.mean_squared_error(y_test, y_pred)))"
   ]
  },
  {
   "cell_type": "code",
   "execution_count": 123,
   "metadata": {},
   "outputs": [
    {
     "name": "stdout",
     "output_type": "stream",
     "text": [
      "0.9869243183265982\n"
     ]
    }
   ],
   "source": [
    "from sklearn.metrics import r2_score\n",
    "#y_train=np.array([[1],[2],[3]])\n",
    "#y_pred=y_train\n",
    "coeff = r2_score(y_test, y_pred)\n",
    "print(coeff)"
   ]
  },
  {
   "cell_type": "code",
   "execution_count": 124,
   "metadata": {},
   "outputs": [],
   "source": [
    "y_test=np.array([y_test])"
   ]
  },
  {
   "cell_type": "code",
   "execution_count": 125,
   "metadata": {
    "scrolled": false
   },
   "outputs": [
    {
     "data": {
      "text/html": [
       "<div>\n",
       "<style scoped>\n",
       "    .dataframe tbody tr th:only-of-type {\n",
       "        vertical-align: middle;\n",
       "    }\n",
       "\n",
       "    .dataframe tbody tr th {\n",
       "        vertical-align: top;\n",
       "    }\n",
       "\n",
       "    .dataframe thead th {\n",
       "        text-align: right;\n",
       "    }\n",
       "</style>\n",
       "<table border=\"1\" class=\"dataframe\">\n",
       "  <thead>\n",
       "    <tr style=\"text-align: right;\">\n",
       "      <th></th>\n",
       "      <th>Actual</th>\n",
       "      <th>Predicted</th>\n",
       "    </tr>\n",
       "  </thead>\n",
       "  <tbody>\n",
       "    <tr>\n",
       "      <th>0</th>\n",
       "      <td>5.75</td>\n",
       "      <td>5.2116</td>\n",
       "    </tr>\n",
       "    <tr>\n",
       "      <th>1</th>\n",
       "      <td>5.35</td>\n",
       "      <td>5.7198</td>\n",
       "    </tr>\n",
       "    <tr>\n",
       "      <th>2</th>\n",
       "      <td>4.77</td>\n",
       "      <td>5.6385</td>\n",
       "    </tr>\n",
       "    <tr>\n",
       "      <th>3</th>\n",
       "      <td>18.39</td>\n",
       "      <td>17.6770</td>\n",
       "    </tr>\n",
       "  </tbody>\n",
       "</table>\n",
       "</div>"
      ],
      "text/plain": [
       "   Actual  Predicted\n",
       "0    5.75     5.2116\n",
       "1    5.35     5.7198\n",
       "2    4.77     5.6385\n",
       "3   18.39    17.6770"
      ]
     },
     "execution_count": 125,
     "metadata": {},
     "output_type": "execute_result"
    }
   ],
   "source": [
    "pd.set_option('display.max_rows',60)\n",
    "df = pd.DataFrame({'Actual': y_test.flatten(), 'Predicted': y_pred.flatten()})\n",
    "df"
   ]
  },
  {
   "cell_type": "markdown",
   "metadata": {},
   "source": [
    "## Dealing with the data of the test.xlsx for which values are to be predicted"
   ]
  },
  {
   "cell_type": "code",
   "execution_count": 126,
   "metadata": {},
   "outputs": [],
   "source": [
    "#specifying the excel file to be used\n",
    "excel_file2=\"Data_Test (1).xlsx\"\n",
    "\n",
    "'''Here, the read_excel method read the data from the Excel file into a pandas Data\n",
    "Frame object. Pandas defaults to storing data in DataFrames'''\n",
    "cars3 = pd.read_excel(excel_file2)"
   ]
  },
  {
   "cell_type": "code",
   "execution_count": 127,
   "metadata": {},
   "outputs": [],
   "source": [
    "def preprocess(cars):\n",
    "    cars.columns = [x.lower() for x in cars.columns]\n",
    "    cars=cars.rename(columns={\"location\": \"city\",\"kilometers_driven\":\"kms\",\"fuel_type\":\"fuel\",\n",
    "                    \"owner_type\":\"owner\",})\n",
    "    a1=[]\n",
    "    a2=[]\n",
    "    for s in cars[\"name\"]:\n",
    "        ary=s.split(' ')\n",
    "        a1.append(ary[0])\n",
    "        a2.append(ary[1])\n",
    "    brand=pd.Series(a1)\n",
    "    model=pd.Series(a2)\n",
    "    cars[\"brand\"]=brand\n",
    "    cars[\"model\"]=model\n",
    "    cars.loc[cars[\"brand\"]==\"Land\",\"brand\"]=\"Land_Rover\"\n",
    "    cars[\"seats\"]=cars[\"seats\"].fillna(5) \n",
    "    \n",
    "    le=cars[\"engine\"].isnull()\n",
    "    for i in range(len(cars)):\n",
    "        if le[i]==True:\n",
    "            if cars[\"model\"][i]==\"Swift\":\n",
    "                cars.loc[i,\"engine\"]=1300\n",
    "            if cars[\"model\"][i]==\"City\":\n",
    "                cars.loc[i,\"engine\"]=1500\n",
    "            if cars[\"model\"][i]==\"Punto\":\n",
    "                cars.loc[i,\"engine\"]=1300\n",
    "            if cars[\"model\"][i]==\"5\":\n",
    "                cars.loc[i,\"engine\"]=2000\n",
    "            if cars[\"model\"][i]==\"Rover\":\n",
    "                cars.loc[i,\"engine\"]=3000\n",
    "            if cars[\"model\"][i]==\"Santro\":\n",
    "                cars.loc[i,\"engine\"]=1086\n",
    "            if cars[\"model\"][i]==\"Etios\":\n",
    "                cars.loc[i,\"engine\"]=1197\n",
    "            if cars[\"model\"][i]==\"Wagon\" or cars[\"model\"][i]==\"Wagon-R\":\n",
    "                cars.loc[i,\"engine\"]=998\n",
    "            if cars[\"model\"][i]==\"CR-V\":\n",
    "                cars.loc[i,\"engine\"]=2354\n",
    "            if cars[\"model\"][i]==\"Jazz\":\n",
    "                cars.loc[i,\"engine\"]=1198\n",
    "            if cars[\"model\"][i]==\"Laura\":\n",
    "                cars.loc[i,\"engine\"]=1896\n",
    "            if cars[\"model\"][i]==\"TUV\":\n",
    "                cars.loc[i,\"engine\"]=2179\n",
    "            if cars[\"model\"][i]==\"i20\":\n",
    "                cars.loc[i,\"engine\"]=1399\n",
    "        \n",
    "    for i in range(len(cars)):\n",
    "        st=cars[\"engine\"][i]\n",
    "        a=4\n",
    "        b=2.0\n",
    "        #c=2.0000000000000000000000\n",
    "        #print(type(c))\n",
    "        if type(st)!=type(a) and type(st)!=type(b) and type(st)!=type(np.float64(b)):\n",
    "            le=\"\"\n",
    "            for j in st:\n",
    "                if j==' ':\n",
    "                    break\n",
    "                le=le+j\n",
    "            cars.loc[i,\"engine\"]=le\n",
    "\n",
    "    cars[\"engine\"]=pd.to_numeric(cars[\"engine\"])\n",
    "    return cars"
   ]
  },
  {
   "cell_type": "code",
   "execution_count": 128,
   "metadata": {
    "scrolled": false
   },
   "outputs": [
    {
     "data": {
      "text/plain": [
       "Name                  0\n",
       "Location              0\n",
       "Year                  0\n",
       "Kilometers_Driven     0\n",
       "Fuel_Type             0\n",
       "Transmission          0\n",
       "Owner_Type            0\n",
       "Mileage               0\n",
       "Engine               10\n",
       "Power                10\n",
       "Seats                11\n",
       "dtype: int64"
      ]
     },
     "execution_count": 128,
     "metadata": {},
     "output_type": "execute_result"
    }
   ],
   "source": [
    "cars3.isnull().sum()"
   ]
  },
  {
   "cell_type": "code",
   "execution_count": 129,
   "metadata": {},
   "outputs": [],
   "source": [
    "cars3=preprocess(cars3)"
   ]
  },
  {
   "cell_type": "code",
   "execution_count": 130,
   "metadata": {},
   "outputs": [
    {
     "data": {
      "text/plain": [
       "(1234, 13)"
      ]
     },
     "execution_count": 130,
     "metadata": {},
     "output_type": "execute_result"
    }
   ],
   "source": [
    "cars3.shape"
   ]
  },
  {
   "cell_type": "code",
   "execution_count": 131,
   "metadata": {},
   "outputs": [
    {
     "data": {
      "text/plain": [
       "pandas.core.series.Series"
      ]
     },
     "execution_count": 131,
     "metadata": {},
     "output_type": "execute_result"
    }
   ],
   "source": [
    "type(cars.iloc[1])"
   ]
  },
  {
   "cell_type": "code",
   "execution_count": 132,
   "metadata": {},
   "outputs": [
    {
     "data": {
      "text/plain": [
       "name            Hyundai Creta 1.6 CRDi SX Option\n",
       "city                                        Pune\n",
       "year                                        2015\n",
       "kms                                        41000\n",
       "fuel                                      Diesel\n",
       "transmission                              Manual\n",
       "owner                                      First\n",
       "mileage                                    19.67\n",
       "engine                                      1582\n",
       "power                                      126.2\n",
       "seats                                          5\n",
       "price                                       12.5\n",
       "brand                                    Hyundai\n",
       "model                                      Creta\n",
       "Name: 1, dtype: object"
      ]
     },
     "execution_count": 132,
     "metadata": {},
     "output_type": "execute_result"
    }
   ],
   "source": [
    "cars.iloc[1]"
   ]
  },
  {
   "cell_type": "code",
   "execution_count": 133,
   "metadata": {},
   "outputs": [
    {
     "data": {
      "text/html": [
       "<div>\n",
       "<style scoped>\n",
       "    .dataframe tbody tr th:only-of-type {\n",
       "        vertical-align: middle;\n",
       "    }\n",
       "\n",
       "    .dataframe tbody tr th {\n",
       "        vertical-align: top;\n",
       "    }\n",
       "\n",
       "    .dataframe thead th {\n",
       "        text-align: right;\n",
       "    }\n",
       "</style>\n",
       "<table border=\"1\" class=\"dataframe\">\n",
       "  <thead>\n",
       "    <tr style=\"text-align: right;\">\n",
       "      <th></th>\n",
       "      <th>name</th>\n",
       "      <th>city</th>\n",
       "      <th>year</th>\n",
       "      <th>kms</th>\n",
       "      <th>fuel</th>\n",
       "      <th>transmission</th>\n",
       "      <th>owner</th>\n",
       "      <th>mileage</th>\n",
       "      <th>engine</th>\n",
       "      <th>power</th>\n",
       "      <th>seats</th>\n",
       "      <th>brand</th>\n",
       "      <th>model</th>\n",
       "    </tr>\n",
       "  </thead>\n",
       "  <tbody>\n",
       "  </tbody>\n",
       "</table>\n",
       "</div>"
      ],
      "text/plain": [
       "Empty DataFrame\n",
       "Columns: [name, city, year, kms, fuel, transmission, owner, mileage, engine, power, seats, brand, model]\n",
       "Index: []"
      ]
     },
     "execution_count": 133,
     "metadata": {},
     "output_type": "execute_result"
    }
   ],
   "source": [
    "cars3[cars3['engine'].isnull()]"
   ]
  },
  {
   "cell_type": "markdown",
   "metadata": {},
   "source": [
    "___"
   ]
  },
  {
   "cell_type": "code",
   "execution_count": 134,
   "metadata": {},
   "outputs": [],
   "source": [
    "X_test2=[]\n",
    "y_test2=[]"
   ]
  },
  {
   "cell_type": "code",
   "execution_count": 135,
   "metadata": {},
   "outputs": [],
   "source": [
    "def predict_values(cars):\n",
    "    #local cars2\n",
    "    #cars3.head()\n",
    "    print(type(cars))\n",
    "    cars2=cars.copy()    \n",
    "    #print(cars2.columns)\n",
    "    cars2=cars2.drop(master_list, axis=1)\n",
    "    cars2=pd.get_dummies(cars2)\n",
    "    test_cols=list(cars2.columns)\n",
    "    type(test_cols)\n",
    "    ######################################################################\n",
    "    \n",
    "    missing_cols = set( train_cols ) - set( test_cols )\n",
    "    missing_cols2=set(test_cols)-set(train_cols)\n",
    "    print(missing_cols)\n",
    "    print(missing_cols2)\n",
    "    # Add a missing column in test set with default value equal to 0\n",
    "    for c in missing_cols:\n",
    "        cars2[c] = 0\n",
    "    # Ensure the order of column in the test set is in the same order than in train set\n",
    "    cars2 =cars2[train_cols]\n",
    "    #########################################################################\n",
    "    X = cars2[train_cols]\n",
    "    #y = cars2['price']\n",
    "    print(X.shape)\n",
    "    \n",
    "    global sc\n",
    "    global X_test2\n",
    "    X_test = sc.transform(X)\n",
    "    y_pred = regressor.predict(X_test)\n",
    "    X_test2=X_test\n",
    "    print(type(y_pred))\n",
    "    new_series = pd.Series(y_pred)\n",
    "    cars['Random_Forest_price']=new_series\n",
    "    return cars"
   ]
  },
  {
   "cell_type": "code",
   "execution_count": 136,
   "metadata": {},
   "outputs": [
    {
     "name": "stdout",
     "output_type": "stream",
     "text": [
      "<class 'pandas.core.frame.DataFrame'>\n",
      "{'model_Fluence', 'model_S-Cross', 'model_1', 'brand_Ambassador', 'model_Nexon', 'model_R-Class', 'model_Lancer', 'model_Fusion', 'model_A7', 'model_SLK-Class', 'model_Estilo', 'model_Fabia', 'model_Venture', 'model_XUV300', 'model_X-Trail', 'model_1000', 'model_Hexa', 'model_Petra', 'model_XJ', 'model_Logan', 'model_Tiguan', 'model_Prius', 'model_Countryman', 'fuel_Electric', 'model_Gallardo', 'model_WR-V', 'model_Beetle', 'model_Platinum', 'model_F', 'model_Redi', 'model_Mustang', 'model_NuvoSport', 'model_TT', 'model_MUX', 'brand_Lamborghini', 'model_C-Class', 'model_RS5', 'model_Safari', 'brand_Force', 'model_S-Class', 'model_Cayman', 'model_Montero', 'model_Evalia', 'model_Outlander', 'model_Aspire', 'model_Continental', 'model_E', 'model_Yeti', 'model_Boxster', 'model_One', 'model_GLS', 'model_SL-Class', 'model_Jeep', 'model_Bolt', 'model_Scala', 'model_Siena', 'model_Z4', 'model_Panamera', 'brand_Smart', 'model_Cedia', 'model_Santa', 'model_Fortwo', 'model_CLS-Class'}\n",
      "{'brand_OpelCorsa', 'model_1.4Gsi', 'model_Abarth', 'brand_Hindustan', 'brand_Isuzu', 'model_MU', 'model_Land', 'model_Motors', 'model_Flying', 'model_370Z'}\n",
      "(1234, 257)\n",
      "<class 'numpy.ndarray'>\n"
     ]
    }
   ],
   "source": [
    "cars4=predict_values(cars3)"
   ]
  },
  {
   "cell_type": "code",
   "execution_count": 74,
   "metadata": {},
   "outputs": [
    {
     "data": {
      "text/plain": [
       "'y_exp=[]\\ny_got=[]\\ncnt=0\\nfor i in range(len(cars4)):\\n    ans=2.0\\n    model_a=cars4[\"model\"][i]\\n    year_a=cars4[\\'year\\'][i]\\n    df=cars.loc[((cars[\\'model\\'] ==model_a) & (abs(cars[\\'year\\']-year_a) < 4))]\\n    if len(df)>0:\\n        ans=df[\\'price\\'].mean()\\n    else:\\n        cnt+=1\\n    y_exp.append(ans);\\nprint(cnt)'"
      ]
     },
     "execution_count": 74,
     "metadata": {},
     "output_type": "execute_result"
    }
   ],
   "source": [
    "'''y_exp=[]\n",
    "y_got=[]\n",
    "cnt=0\n",
    "for i in range(len(cars4)):\n",
    "    ans=2.0\n",
    "    model_a=cars4[\"model\"][i]\n",
    "    year_a=cars4['year'][i]\n",
    "    df=cars.loc[((cars['model'] ==model_a) & (abs(cars['year']-year_a) < 4))]\n",
    "    if len(df)>0:\n",
    "        ans=df['price'].mean()\n",
    "    else:\n",
    "        cnt+=1\n",
    "    y_exp.append(ans);\n",
    "print(cnt)'''"
   ]
  },
  {
   "cell_type": "code",
   "execution_count": 75,
   "metadata": {
    "scrolled": true
   },
   "outputs": [],
   "source": [
    "y_given=np.array(cars4['Random_Forest_price'])\n",
    "len(y_given)\n",
    "y_test2=y_given"
   ]
  },
  {
   "cell_type": "code",
   "execution_count": 76,
   "metadata": {},
   "outputs": [],
   "source": [
    "y_given=pd.Series(y_given)\n",
    "y_given.fillna(y_given.median())\n",
    "y_given=np.array(y_given)"
   ]
  },
  {
   "cell_type": "code",
   "execution_count": 77,
   "metadata": {},
   "outputs": [],
   "source": [
    "#coeff2 = r2_score(y_exp, y_given)\n",
    "#print(coeff2)"
   ]
  },
  {
   "cell_type": "code",
   "execution_count": 78,
   "metadata": {},
   "outputs": [
    {
     "data": {
      "text/plain": [
       "False"
      ]
     },
     "execution_count": 78,
     "metadata": {},
     "output_type": "execute_result"
    }
   ],
   "source": [
    "np.any(np.isnan(y_given))"
   ]
  },
  {
   "cell_type": "code",
   "execution_count": 79,
   "metadata": {},
   "outputs": [
    {
     "data": {
      "text/plain": [
       "array([[ 0.19673776, -0.1950855 , -1.03605015, ..., -0.16317385,\n",
       "        -0.20693591, -0.03159909],\n",
       "       [-0.1091236 , -0.04650321, -1.37209364, ..., -0.16317385,\n",
       "        -0.20693591, -0.03159909],\n",
       "       [ 1.11432184, -0.27098691,  1.28464622, ..., -0.16317385,\n",
       "        -0.20693591, -0.03159909],\n",
       "       ...,\n",
       "       [-0.41498497, -0.3367119 , -0.26581186, ..., -0.16317385,\n",
       "        -0.20693591, -0.03159909],\n",
       "       [-0.1091236 , -0.07094195, -0.70499741, ..., -0.16317385,\n",
       "        -0.20693591, -0.03159909],\n",
       "       [ 0.19673776,  0.15012405,  0.87706872, ..., -0.16317385,\n",
       "        -0.20693591, -0.03159909]])"
      ]
     },
     "execution_count": 79,
     "metadata": {},
     "output_type": "execute_result"
    }
   ],
   "source": [
    "X_test2"
   ]
  },
  {
   "cell_type": "code",
   "execution_count": 80,
   "metadata": {},
   "outputs": [
    {
     "data": {
      "text/plain": [
       "True"
      ]
     },
     "execution_count": 80,
     "metadata": {},
     "output_type": "execute_result"
    }
   ],
   "source": [
    "np.all(np.isfinite(y_given))"
   ]
  },
  {
   "cell_type": "code",
   "execution_count": 81,
   "metadata": {},
   "outputs": [],
   "source": [
    "#new_series = pd.Series(y_exp)\n",
    "#cars4['exp_price']=new_series"
   ]
  },
  {
   "cell_type": "code",
   "execution_count": 82,
   "metadata": {
    "scrolled": true
   },
   "outputs": [
    {
     "data": {
      "text/html": [
       "<div>\n",
       "<style scoped>\n",
       "    .dataframe tbody tr th:only-of-type {\n",
       "        vertical-align: middle;\n",
       "    }\n",
       "\n",
       "    .dataframe tbody tr th {\n",
       "        vertical-align: top;\n",
       "    }\n",
       "\n",
       "    .dataframe thead th {\n",
       "        text-align: right;\n",
       "    }\n",
       "</style>\n",
       "<table border=\"1\" class=\"dataframe\">\n",
       "  <thead>\n",
       "    <tr style=\"text-align: right;\">\n",
       "      <th></th>\n",
       "      <th>name</th>\n",
       "      <th>city</th>\n",
       "      <th>year</th>\n",
       "      <th>kms</th>\n",
       "      <th>fuel</th>\n",
       "      <th>transmission</th>\n",
       "      <th>owner</th>\n",
       "      <th>mileage</th>\n",
       "      <th>engine</th>\n",
       "      <th>power</th>\n",
       "      <th>seats</th>\n",
       "      <th>brand</th>\n",
       "      <th>model</th>\n",
       "      <th>Random_Forest_price</th>\n",
       "    </tr>\n",
       "  </thead>\n",
       "  <tbody>\n",
       "    <tr>\n",
       "      <th>0</th>\n",
       "      <td>Maruti Alto K10 LXI CNG</td>\n",
       "      <td>Delhi</td>\n",
       "      <td>2014</td>\n",
       "      <td>40929</td>\n",
       "      <td>CNG</td>\n",
       "      <td>Manual</td>\n",
       "      <td>First</td>\n",
       "      <td>32.26 km/kg</td>\n",
       "      <td>998</td>\n",
       "      <td>58.2 bhp</td>\n",
       "      <td>4.0</td>\n",
       "      <td>Maruti</td>\n",
       "      <td>Alto</td>\n",
       "      <td>3.0924</td>\n",
       "    </tr>\n",
       "    <tr>\n",
       "      <th>1</th>\n",
       "      <td>Maruti Alto 800 2016-2019 LXI</td>\n",
       "      <td>Coimbatore</td>\n",
       "      <td>2013</td>\n",
       "      <td>54493</td>\n",
       "      <td>Petrol</td>\n",
       "      <td>Manual</td>\n",
       "      <td>Second</td>\n",
       "      <td>24.7 kmpl</td>\n",
       "      <td>796</td>\n",
       "      <td>47.3 bhp</td>\n",
       "      <td>5.0</td>\n",
       "      <td>Maruti</td>\n",
       "      <td>Alto</td>\n",
       "      <td>2.2491</td>\n",
       "    </tr>\n",
       "    <tr>\n",
       "      <th>2</th>\n",
       "      <td>Toyota Innova Crysta Touring Sport 2.4 MT</td>\n",
       "      <td>Mumbai</td>\n",
       "      <td>2017</td>\n",
       "      <td>34000</td>\n",
       "      <td>Diesel</td>\n",
       "      <td>Manual</td>\n",
       "      <td>First</td>\n",
       "      <td>13.68 kmpl</td>\n",
       "      <td>2393</td>\n",
       "      <td>147.8 bhp</td>\n",
       "      <td>7.0</td>\n",
       "      <td>Toyota</td>\n",
       "      <td>Innova</td>\n",
       "      <td>17.3616</td>\n",
       "    </tr>\n",
       "    <tr>\n",
       "      <th>3</th>\n",
       "      <td>Toyota Etios Liva GD</td>\n",
       "      <td>Hyderabad</td>\n",
       "      <td>2012</td>\n",
       "      <td>139000</td>\n",
       "      <td>Diesel</td>\n",
       "      <td>Manual</td>\n",
       "      <td>First</td>\n",
       "      <td>23.59 kmpl</td>\n",
       "      <td>1364</td>\n",
       "      <td>null bhp</td>\n",
       "      <td>5.0</td>\n",
       "      <td>Toyota</td>\n",
       "      <td>Etios</td>\n",
       "      <td>3.7711</td>\n",
       "    </tr>\n",
       "    <tr>\n",
       "      <th>4</th>\n",
       "      <td>Hyundai i20 Magna</td>\n",
       "      <td>Mumbai</td>\n",
       "      <td>2014</td>\n",
       "      <td>29000</td>\n",
       "      <td>Petrol</td>\n",
       "      <td>Manual</td>\n",
       "      <td>First</td>\n",
       "      <td>18.5 kmpl</td>\n",
       "      <td>1197</td>\n",
       "      <td>82.85 bhp</td>\n",
       "      <td>5.0</td>\n",
       "      <td>Hyundai</td>\n",
       "      <td>i20</td>\n",
       "      <td>5.2811</td>\n",
       "    </tr>\n",
       "    <tr>\n",
       "      <th>...</th>\n",
       "      <td>...</td>\n",
       "      <td>...</td>\n",
       "      <td>...</td>\n",
       "      <td>...</td>\n",
       "      <td>...</td>\n",
       "      <td>...</td>\n",
       "      <td>...</td>\n",
       "      <td>...</td>\n",
       "      <td>...</td>\n",
       "      <td>...</td>\n",
       "      <td>...</td>\n",
       "      <td>...</td>\n",
       "      <td>...</td>\n",
       "      <td>...</td>\n",
       "    </tr>\n",
       "    <tr>\n",
       "      <th>1229</th>\n",
       "      <td>Volkswagen Vento Diesel Trendline</td>\n",
       "      <td>Hyderabad</td>\n",
       "      <td>2011</td>\n",
       "      <td>89411</td>\n",
       "      <td>Diesel</td>\n",
       "      <td>Manual</td>\n",
       "      <td>First</td>\n",
       "      <td>20.54 kmpl</td>\n",
       "      <td>1598</td>\n",
       "      <td>103.6 bhp</td>\n",
       "      <td>5.0</td>\n",
       "      <td>Volkswagen</td>\n",
       "      <td>Vento</td>\n",
       "      <td>3.8430</td>\n",
       "    </tr>\n",
       "    <tr>\n",
       "      <th>1230</th>\n",
       "      <td>Volkswagen Polo GT TSI</td>\n",
       "      <td>Mumbai</td>\n",
       "      <td>2015</td>\n",
       "      <td>59000</td>\n",
       "      <td>Petrol</td>\n",
       "      <td>Automatic</td>\n",
       "      <td>First</td>\n",
       "      <td>17.21 kmpl</td>\n",
       "      <td>1197</td>\n",
       "      <td>103.6 bhp</td>\n",
       "      <td>5.0</td>\n",
       "      <td>Volkswagen</td>\n",
       "      <td>Polo</td>\n",
       "      <td>6.4333</td>\n",
       "    </tr>\n",
       "    <tr>\n",
       "      <th>1231</th>\n",
       "      <td>Nissan Micra Diesel XV</td>\n",
       "      <td>Kolkata</td>\n",
       "      <td>2012</td>\n",
       "      <td>28000</td>\n",
       "      <td>Diesel</td>\n",
       "      <td>Manual</td>\n",
       "      <td>First</td>\n",
       "      <td>23.08 kmpl</td>\n",
       "      <td>1461</td>\n",
       "      <td>63.1 bhp</td>\n",
       "      <td>5.0</td>\n",
       "      <td>Nissan</td>\n",
       "      <td>Micra</td>\n",
       "      <td>3.1566</td>\n",
       "    </tr>\n",
       "    <tr>\n",
       "      <th>1232</th>\n",
       "      <td>Volkswagen Polo GT TSI</td>\n",
       "      <td>Pune</td>\n",
       "      <td>2013</td>\n",
       "      <td>52262</td>\n",
       "      <td>Petrol</td>\n",
       "      <td>Automatic</td>\n",
       "      <td>Third</td>\n",
       "      <td>17.2 kmpl</td>\n",
       "      <td>1197</td>\n",
       "      <td>103.6 bhp</td>\n",
       "      <td>5.0</td>\n",
       "      <td>Volkswagen</td>\n",
       "      <td>Polo</td>\n",
       "      <td>4.1258</td>\n",
       "    </tr>\n",
       "    <tr>\n",
       "      <th>1233</th>\n",
       "      <td>Mercedes-Benz E-Class 2009-2013 E 220 CDI Avan...</td>\n",
       "      <td>Kochi</td>\n",
       "      <td>2014</td>\n",
       "      <td>72443</td>\n",
       "      <td>Diesel</td>\n",
       "      <td>Automatic</td>\n",
       "      <td>First</td>\n",
       "      <td>10.0 kmpl</td>\n",
       "      <td>2148</td>\n",
       "      <td>170 bhp</td>\n",
       "      <td>5.0</td>\n",
       "      <td>Mercedes-Benz</td>\n",
       "      <td>E-Class</td>\n",
       "      <td>23.3747</td>\n",
       "    </tr>\n",
       "  </tbody>\n",
       "</table>\n",
       "<p>1234 rows × 14 columns</p>\n",
       "</div>"
      ],
      "text/plain": [
       "                                                   name        city  year  \\\n",
       "0                               Maruti Alto K10 LXI CNG       Delhi  2014   \n",
       "1                         Maruti Alto 800 2016-2019 LXI  Coimbatore  2013   \n",
       "2             Toyota Innova Crysta Touring Sport 2.4 MT      Mumbai  2017   \n",
       "3                                  Toyota Etios Liva GD   Hyderabad  2012   \n",
       "4                                     Hyundai i20 Magna      Mumbai  2014   \n",
       "...                                                 ...         ...   ...   \n",
       "1229                  Volkswagen Vento Diesel Trendline   Hyderabad  2011   \n",
       "1230                             Volkswagen Polo GT TSI      Mumbai  2015   \n",
       "1231                             Nissan Micra Diesel XV     Kolkata  2012   \n",
       "1232                             Volkswagen Polo GT TSI        Pune  2013   \n",
       "1233  Mercedes-Benz E-Class 2009-2013 E 220 CDI Avan...       Kochi  2014   \n",
       "\n",
       "         kms    fuel transmission   owner      mileage  engine      power  \\\n",
       "0      40929     CNG       Manual   First  32.26 km/kg     998   58.2 bhp   \n",
       "1      54493  Petrol       Manual  Second    24.7 kmpl     796   47.3 bhp   \n",
       "2      34000  Diesel       Manual   First   13.68 kmpl    2393  147.8 bhp   \n",
       "3     139000  Diesel       Manual   First   23.59 kmpl    1364   null bhp   \n",
       "4      29000  Petrol       Manual   First    18.5 kmpl    1197  82.85 bhp   \n",
       "...      ...     ...          ...     ...          ...     ...        ...   \n",
       "1229   89411  Diesel       Manual   First   20.54 kmpl    1598  103.6 bhp   \n",
       "1230   59000  Petrol    Automatic   First   17.21 kmpl    1197  103.6 bhp   \n",
       "1231   28000  Diesel       Manual   First   23.08 kmpl    1461   63.1 bhp   \n",
       "1232   52262  Petrol    Automatic   Third    17.2 kmpl    1197  103.6 bhp   \n",
       "1233   72443  Diesel    Automatic   First    10.0 kmpl    2148    170 bhp   \n",
       "\n",
       "      seats          brand    model  Random_Forest_price  \n",
       "0       4.0         Maruti     Alto               3.0924  \n",
       "1       5.0         Maruti     Alto               2.2491  \n",
       "2       7.0         Toyota   Innova              17.3616  \n",
       "3       5.0         Toyota    Etios               3.7711  \n",
       "4       5.0        Hyundai      i20               5.2811  \n",
       "...     ...            ...      ...                  ...  \n",
       "1229    5.0     Volkswagen    Vento               3.8430  \n",
       "1230    5.0     Volkswagen     Polo               6.4333  \n",
       "1231    5.0         Nissan    Micra               3.1566  \n",
       "1232    5.0     Volkswagen     Polo               4.1258  \n",
       "1233    5.0  Mercedes-Benz  E-Class              23.3747  \n",
       "\n",
       "[1234 rows x 14 columns]"
      ]
     },
     "execution_count": 82,
     "metadata": {},
     "output_type": "execute_result"
    }
   ],
   "source": [
    "cars4.loc[:]"
   ]
  },
  {
   "cell_type": "code",
   "execution_count": 83,
   "metadata": {},
   "outputs": [
    {
     "data": {
      "text/plain": [
       "\"fig, ax = plt.subplots()\\nax.scatter(y_exp,y_given)\\n#ax.plot([y_exp.min(), y_exp.max()], [y_exp.min(), y_exp.max()], 'k--', lw=4)\\nax.set_xlabel('Measured')\\nax.set_ylabel('Predicted')\\nplt.show()\""
      ]
     },
     "execution_count": 83,
     "metadata": {},
     "output_type": "execute_result"
    }
   ],
   "source": [
    "'''fig, ax = plt.subplots()\n",
    "ax.scatter(y_exp,y_given)\n",
    "#ax.plot([y_exp.min(), y_exp.max()], [y_exp.min(), y_exp.max()], 'k--', lw=4)\n",
    "ax.set_xlabel('Measured')\n",
    "ax.set_ylabel('Predicted')\n",
    "plt.show()'''"
   ]
  },
  {
   "cell_type": "markdown",
   "metadata": {},
   "source": [
    "___\n"
   ]
  },
  {
   "cell_type": "markdown",
   "metadata": {},
   "source": [
    "## XGBoost\n",
    "The XGBoost library implements the gradient boosting decision tree algorithm.\n",
    "\n",
    "This algorithm goes by lots of different names such as gradient boosting, multiple additive regression trees, stochastic gradient boosting or gradient boosting machines.\n",
    "\n",
    "Boosting is an ensemble technique where new models are added to correct the errors made by existing models. Models are added sequentially until no further improvements can be made. "
   ]
  },
  {
   "cell_type": "markdown",
   "metadata": {},
   "source": [
    "### Hyperparameter optimisations"
   ]
  },
  {
   "cell_type": "code",
   "execution_count": 84,
   "metadata": {},
   "outputs": [],
   "source": [
    "from xgboost import XGBRegressor\n",
    "from sklearn.model_selection import GridSearchCV"
   ]
  },
  {
   "cell_type": "code",
   "execution_count": 85,
   "metadata": {},
   "outputs": [],
   "source": [
    "def hyperParameterTuning(x_train, y_train):\n",
    "    param_tuning = {\n",
    "        'learning_rate': [0.01, 0.1],\n",
    "        'max_depth': [3, 5, 7, 10],\n",
    "        'min_child_weight': [1, 3, 5],\n",
    "        'subsample': [0.5, 0.7],\n",
    "        'colsample_bytree': [0.5, 0.7],\n",
    "        'eta': [0.01,0.3]\n",
    "    }\n",
    "\n",
    "    xgb_model = XGBRegressor()\n",
    "\n",
    "    gsearch = GridSearchCV(estimator = xgb_model,\n",
    "                           param_grid = param_tuning,\n",
    "                           cv = 5,\n",
    "                           n_jobs = -1,\n",
    "                           verbose = 1)\n",
    "\n",
    "    gsearch.fit(X_train,y_train)\n",
    "\n",
    "    return gsearch.best_params_\n"
   ]
  },
  {
   "cell_type": "code",
   "execution_count": 86,
   "metadata": {},
   "outputs": [],
   "source": [
    "#Run below line for double checking only, can run upto 5 mins\n",
    "\n",
    "# hyperParameterTuning(X_train, y_train)\n",
    "\n",
    "\n",
    "#the above line gives us an output of the following\n",
    "\n",
    "# {'colsample_bytree': 0.7,\n",
    "#  'learning_rate': 0.01,\n",
    "#  'max_depth': 10,\n",
    "#  'min_child_weight': 1,\n",
    "#  'subsample': 0.7}\n"
   ]
  },
  {
   "cell_type": "code",
   "execution_count": 87,
   "metadata": {},
   "outputs": [
    {
     "data": {
      "text/plain": [
       "array([[-0.1091236 ,  0.09535323, -0.62015475, ..., -0.16317385,\n",
       "        -0.20693591, -0.03159909],\n",
       "       [-0.1091236 , -0.35879549, -0.20259576, ..., -0.16317385,\n",
       "        -0.20693591, -0.03159909],\n",
       "       [ 1.4201832 , -0.09315699, -0.70499741, ..., -0.16317385,\n",
       "        -0.20693591, -0.03159909],\n",
       "       [ 1.4201832 ,  0.36496809,  1.28464622, ..., -0.16317385,\n",
       "        -0.20693591, -0.03159909]])"
      ]
     },
     "execution_count": 87,
     "metadata": {},
     "output_type": "execute_result"
    }
   ],
   "source": [
    "X_test"
   ]
  },
  {
   "cell_type": "code",
   "execution_count": 88,
   "metadata": {},
   "outputs": [
    {
     "data": {
      "text/plain": [
       "(1234,)"
      ]
     },
     "execution_count": 88,
     "metadata": {},
     "output_type": "execute_result"
    }
   ],
   "source": [
    "y_test2 = y_test2.transpose()\n",
    "y_test2.shape"
   ]
  },
  {
   "cell_type": "code",
   "execution_count": 89,
   "metadata": {},
   "outputs": [
    {
     "data": {
      "text/plain": [
       "array([[ 0.19673776, -0.1950855 , -1.03605015, ..., -0.16317385,\n",
       "        -0.20693591, -0.03159909],\n",
       "       [-0.1091236 , -0.04650321, -1.37209364, ..., -0.16317385,\n",
       "        -0.20693591, -0.03159909],\n",
       "       [ 1.11432184, -0.27098691,  1.28464622, ..., -0.16317385,\n",
       "        -0.20693591, -0.03159909],\n",
       "       ...,\n",
       "       [-0.41498497, -0.3367119 , -0.26581186, ..., -0.16317385,\n",
       "        -0.20693591, -0.03159909],\n",
       "       [-0.1091236 , -0.07094195, -0.70499741, ..., -0.16317385,\n",
       "        -0.20693591, -0.03159909],\n",
       "       [ 0.19673776,  0.15012405,  0.87706872, ..., -0.16317385,\n",
       "        -0.20693591, -0.03159909]])"
      ]
     },
     "execution_count": 89,
     "metadata": {},
     "output_type": "execute_result"
    }
   ],
   "source": [
    "X_test2"
   ]
  },
  {
   "cell_type": "code",
   "execution_count": 90,
   "metadata": {},
   "outputs": [
    {
     "name": "stdout",
     "output_type": "stream",
     "text": [
      "[22:30:02] WARNING: src/objective/regression_obj.cu:152: reg:linear is now deprecated in favor of reg:squarederror.\n"
     ]
    },
    {
     "data": {
      "text/plain": [
       "0.9892042976229981"
      ]
     },
     "execution_count": 90,
     "metadata": {},
     "output_type": "execute_result"
    }
   ],
   "source": [
    "#input the hyperparameters and we are done\n",
    "xgb_model = XGBRegressor(\n",
    "        colsample_bytree= 0.7,\n",
    "        learning_rate= 0.01,\n",
    "        max_depth= 10,\n",
    "        min_child_weight= 1,\n",
    "        n_estimators= 1000,\n",
    "        subsample= 0.7)\n",
    "\n",
    "xgb_model.fit(X_train, y_train)\n",
    "predictions = xgb_model.predict(X_test2)\n",
    "r2_score(predictions,y_test2)"
   ]
  },
  {
   "cell_type": "code",
   "execution_count": 91,
   "metadata": {},
   "outputs": [
    {
     "data": {
      "text/plain": [
       "name                    object\n",
       "city                    object\n",
       "year                     int64\n",
       "kms                      int64\n",
       "fuel                    object\n",
       "transmission            object\n",
       "owner                   object\n",
       "mileage                 object\n",
       "engine                   int64\n",
       "power                   object\n",
       "seats                  float64\n",
       "brand                   object\n",
       "model                   object\n",
       "Random_Forest_price    float64\n",
       "XGB_price              float32\n",
       "dtype: object"
      ]
     },
     "execution_count": 91,
     "metadata": {},
     "output_type": "execute_result"
    }
   ],
   "source": [
    "new_series = pd.Series(predictions)\n",
    "cars4['XGB_price']=new_series\n",
    "\n",
    "#pd.set_option('display.max_rows', 7000)\n",
    "cars4.loc[:]\n",
    "cars4.dtypes"
   ]
  },
  {
   "cell_type": "markdown",
   "metadata": {},
   "source": [
    "# Results"
   ]
  },
  {
   "cell_type": "code",
   "execution_count": 92,
   "metadata": {},
   "outputs": [],
   "source": [
    "pd.set_option('display.max_rows', 100)"
   ]
  },
  {
   "cell_type": "code",
   "execution_count": 93,
   "metadata": {},
   "outputs": [
    {
     "data": {
      "text/html": [
       "<div>\n",
       "<style scoped>\n",
       "    .dataframe tbody tr th:only-of-type {\n",
       "        vertical-align: middle;\n",
       "    }\n",
       "\n",
       "    .dataframe tbody tr th {\n",
       "        vertical-align: top;\n",
       "    }\n",
       "\n",
       "    .dataframe thead th {\n",
       "        text-align: right;\n",
       "    }\n",
       "</style>\n",
       "<table border=\"1\" class=\"dataframe\">\n",
       "  <thead>\n",
       "    <tr style=\"text-align: right;\">\n",
       "      <th></th>\n",
       "      <th>name</th>\n",
       "      <th>city</th>\n",
       "      <th>year</th>\n",
       "      <th>kms</th>\n",
       "      <th>fuel</th>\n",
       "      <th>transmission</th>\n",
       "      <th>owner</th>\n",
       "      <th>mileage</th>\n",
       "      <th>engine</th>\n",
       "      <th>power</th>\n",
       "      <th>seats</th>\n",
       "      <th>brand</th>\n",
       "      <th>model</th>\n",
       "      <th>Random_Forest_price</th>\n",
       "      <th>XGB_price</th>\n",
       "    </tr>\n",
       "  </thead>\n",
       "  <tbody>\n",
       "    <tr>\n",
       "      <th>0</th>\n",
       "      <td>Maruti Alto K10 LXI CNG</td>\n",
       "      <td>Delhi</td>\n",
       "      <td>2014</td>\n",
       "      <td>40929</td>\n",
       "      <td>CNG</td>\n",
       "      <td>Manual</td>\n",
       "      <td>First</td>\n",
       "      <td>32.26 km/kg</td>\n",
       "      <td>998</td>\n",
       "      <td>58.2 bhp</td>\n",
       "      <td>4.0</td>\n",
       "      <td>Maruti</td>\n",
       "      <td>Alto</td>\n",
       "      <td>3.0924</td>\n",
       "      <td>2.935872</td>\n",
       "    </tr>\n",
       "    <tr>\n",
       "      <th>1</th>\n",
       "      <td>Maruti Alto 800 2016-2019 LXI</td>\n",
       "      <td>Coimbatore</td>\n",
       "      <td>2013</td>\n",
       "      <td>54493</td>\n",
       "      <td>Petrol</td>\n",
       "      <td>Manual</td>\n",
       "      <td>Second</td>\n",
       "      <td>24.7 kmpl</td>\n",
       "      <td>796</td>\n",
       "      <td>47.3 bhp</td>\n",
       "      <td>5.0</td>\n",
       "      <td>Maruti</td>\n",
       "      <td>Alto</td>\n",
       "      <td>2.2491</td>\n",
       "      <td>2.431911</td>\n",
       "    </tr>\n",
       "    <tr>\n",
       "      <th>2</th>\n",
       "      <td>Toyota Innova Crysta Touring Sport 2.4 MT</td>\n",
       "      <td>Mumbai</td>\n",
       "      <td>2017</td>\n",
       "      <td>34000</td>\n",
       "      <td>Diesel</td>\n",
       "      <td>Manual</td>\n",
       "      <td>First</td>\n",
       "      <td>13.68 kmpl</td>\n",
       "      <td>2393</td>\n",
       "      <td>147.8 bhp</td>\n",
       "      <td>7.0</td>\n",
       "      <td>Toyota</td>\n",
       "      <td>Innova</td>\n",
       "      <td>17.3616</td>\n",
       "      <td>17.778378</td>\n",
       "    </tr>\n",
       "    <tr>\n",
       "      <th>3</th>\n",
       "      <td>Toyota Etios Liva GD</td>\n",
       "      <td>Hyderabad</td>\n",
       "      <td>2012</td>\n",
       "      <td>139000</td>\n",
       "      <td>Diesel</td>\n",
       "      <td>Manual</td>\n",
       "      <td>First</td>\n",
       "      <td>23.59 kmpl</td>\n",
       "      <td>1364</td>\n",
       "      <td>null bhp</td>\n",
       "      <td>5.0</td>\n",
       "      <td>Toyota</td>\n",
       "      <td>Etios</td>\n",
       "      <td>3.7711</td>\n",
       "      <td>3.737540</td>\n",
       "    </tr>\n",
       "    <tr>\n",
       "      <th>4</th>\n",
       "      <td>Hyundai i20 Magna</td>\n",
       "      <td>Mumbai</td>\n",
       "      <td>2014</td>\n",
       "      <td>29000</td>\n",
       "      <td>Petrol</td>\n",
       "      <td>Manual</td>\n",
       "      <td>First</td>\n",
       "      <td>18.5 kmpl</td>\n",
       "      <td>1197</td>\n",
       "      <td>82.85 bhp</td>\n",
       "      <td>5.0</td>\n",
       "      <td>Hyundai</td>\n",
       "      <td>i20</td>\n",
       "      <td>5.2811</td>\n",
       "      <td>4.667237</td>\n",
       "    </tr>\n",
       "    <tr>\n",
       "      <th>...</th>\n",
       "      <td>...</td>\n",
       "      <td>...</td>\n",
       "      <td>...</td>\n",
       "      <td>...</td>\n",
       "      <td>...</td>\n",
       "      <td>...</td>\n",
       "      <td>...</td>\n",
       "      <td>...</td>\n",
       "      <td>...</td>\n",
       "      <td>...</td>\n",
       "      <td>...</td>\n",
       "      <td>...</td>\n",
       "      <td>...</td>\n",
       "      <td>...</td>\n",
       "      <td>...</td>\n",
       "    </tr>\n",
       "    <tr>\n",
       "      <th>1229</th>\n",
       "      <td>Volkswagen Vento Diesel Trendline</td>\n",
       "      <td>Hyderabad</td>\n",
       "      <td>2011</td>\n",
       "      <td>89411</td>\n",
       "      <td>Diesel</td>\n",
       "      <td>Manual</td>\n",
       "      <td>First</td>\n",
       "      <td>20.54 kmpl</td>\n",
       "      <td>1598</td>\n",
       "      <td>103.6 bhp</td>\n",
       "      <td>5.0</td>\n",
       "      <td>Volkswagen</td>\n",
       "      <td>Vento</td>\n",
       "      <td>3.8430</td>\n",
       "      <td>3.901878</td>\n",
       "    </tr>\n",
       "    <tr>\n",
       "      <th>1230</th>\n",
       "      <td>Volkswagen Polo GT TSI</td>\n",
       "      <td>Mumbai</td>\n",
       "      <td>2015</td>\n",
       "      <td>59000</td>\n",
       "      <td>Petrol</td>\n",
       "      <td>Automatic</td>\n",
       "      <td>First</td>\n",
       "      <td>17.21 kmpl</td>\n",
       "      <td>1197</td>\n",
       "      <td>103.6 bhp</td>\n",
       "      <td>5.0</td>\n",
       "      <td>Volkswagen</td>\n",
       "      <td>Polo</td>\n",
       "      <td>6.4333</td>\n",
       "      <td>5.663555</td>\n",
       "    </tr>\n",
       "    <tr>\n",
       "      <th>1231</th>\n",
       "      <td>Nissan Micra Diesel XV</td>\n",
       "      <td>Kolkata</td>\n",
       "      <td>2012</td>\n",
       "      <td>28000</td>\n",
       "      <td>Diesel</td>\n",
       "      <td>Manual</td>\n",
       "      <td>First</td>\n",
       "      <td>23.08 kmpl</td>\n",
       "      <td>1461</td>\n",
       "      <td>63.1 bhp</td>\n",
       "      <td>5.0</td>\n",
       "      <td>Nissan</td>\n",
       "      <td>Micra</td>\n",
       "      <td>3.1566</td>\n",
       "      <td>3.704683</td>\n",
       "    </tr>\n",
       "    <tr>\n",
       "      <th>1232</th>\n",
       "      <td>Volkswagen Polo GT TSI</td>\n",
       "      <td>Pune</td>\n",
       "      <td>2013</td>\n",
       "      <td>52262</td>\n",
       "      <td>Petrol</td>\n",
       "      <td>Automatic</td>\n",
       "      <td>Third</td>\n",
       "      <td>17.2 kmpl</td>\n",
       "      <td>1197</td>\n",
       "      <td>103.6 bhp</td>\n",
       "      <td>5.0</td>\n",
       "      <td>Volkswagen</td>\n",
       "      <td>Polo</td>\n",
       "      <td>4.1258</td>\n",
       "      <td>4.207714</td>\n",
       "    </tr>\n",
       "    <tr>\n",
       "      <th>1233</th>\n",
       "      <td>Mercedes-Benz E-Class 2009-2013 E 220 CDI Avan...</td>\n",
       "      <td>Kochi</td>\n",
       "      <td>2014</td>\n",
       "      <td>72443</td>\n",
       "      <td>Diesel</td>\n",
       "      <td>Automatic</td>\n",
       "      <td>First</td>\n",
       "      <td>10.0 kmpl</td>\n",
       "      <td>2148</td>\n",
       "      <td>170 bhp</td>\n",
       "      <td>5.0</td>\n",
       "      <td>Mercedes-Benz</td>\n",
       "      <td>E-Class</td>\n",
       "      <td>23.3747</td>\n",
       "      <td>22.704676</td>\n",
       "    </tr>\n",
       "  </tbody>\n",
       "</table>\n",
       "<p>1234 rows × 15 columns</p>\n",
       "</div>"
      ],
      "text/plain": [
       "                                                   name        city  year  \\\n",
       "0                               Maruti Alto K10 LXI CNG       Delhi  2014   \n",
       "1                         Maruti Alto 800 2016-2019 LXI  Coimbatore  2013   \n",
       "2             Toyota Innova Crysta Touring Sport 2.4 MT      Mumbai  2017   \n",
       "3                                  Toyota Etios Liva GD   Hyderabad  2012   \n",
       "4                                     Hyundai i20 Magna      Mumbai  2014   \n",
       "...                                                 ...         ...   ...   \n",
       "1229                  Volkswagen Vento Diesel Trendline   Hyderabad  2011   \n",
       "1230                             Volkswagen Polo GT TSI      Mumbai  2015   \n",
       "1231                             Nissan Micra Diesel XV     Kolkata  2012   \n",
       "1232                             Volkswagen Polo GT TSI        Pune  2013   \n",
       "1233  Mercedes-Benz E-Class 2009-2013 E 220 CDI Avan...       Kochi  2014   \n",
       "\n",
       "         kms    fuel transmission   owner      mileage  engine      power  \\\n",
       "0      40929     CNG       Manual   First  32.26 km/kg     998   58.2 bhp   \n",
       "1      54493  Petrol       Manual  Second    24.7 kmpl     796   47.3 bhp   \n",
       "2      34000  Diesel       Manual   First   13.68 kmpl    2393  147.8 bhp   \n",
       "3     139000  Diesel       Manual   First   23.59 kmpl    1364   null bhp   \n",
       "4      29000  Petrol       Manual   First    18.5 kmpl    1197  82.85 bhp   \n",
       "...      ...     ...          ...     ...          ...     ...        ...   \n",
       "1229   89411  Diesel       Manual   First   20.54 kmpl    1598  103.6 bhp   \n",
       "1230   59000  Petrol    Automatic   First   17.21 kmpl    1197  103.6 bhp   \n",
       "1231   28000  Diesel       Manual   First   23.08 kmpl    1461   63.1 bhp   \n",
       "1232   52262  Petrol    Automatic   Third    17.2 kmpl    1197  103.6 bhp   \n",
       "1233   72443  Diesel    Automatic   First    10.0 kmpl    2148    170 bhp   \n",
       "\n",
       "      seats          brand    model  Random_Forest_price  XGB_price  \n",
       "0       4.0         Maruti     Alto               3.0924   2.935872  \n",
       "1       5.0         Maruti     Alto               2.2491   2.431911  \n",
       "2       7.0         Toyota   Innova              17.3616  17.778378  \n",
       "3       5.0         Toyota    Etios               3.7711   3.737540  \n",
       "4       5.0        Hyundai      i20               5.2811   4.667237  \n",
       "...     ...            ...      ...                  ...        ...  \n",
       "1229    5.0     Volkswagen    Vento               3.8430   3.901878  \n",
       "1230    5.0     Volkswagen     Polo               6.4333   5.663555  \n",
       "1231    5.0         Nissan    Micra               3.1566   3.704683  \n",
       "1232    5.0     Volkswagen     Polo               4.1258   4.207714  \n",
       "1233    5.0  Mercedes-Benz  E-Class              23.3747  22.704676  \n",
       "\n",
       "[1234 rows x 15 columns]"
      ]
     },
     "execution_count": 93,
     "metadata": {},
     "output_type": "execute_result"
    }
   ],
   "source": [
    "cars4.loc[:]"
   ]
  },
  {
   "cell_type": "code",
   "execution_count": 94,
   "metadata": {},
   "outputs": [],
   "source": [
    "cars4.to_excel(\"output.xlsx\")  "
   ]
  },
  {
   "cell_type": "markdown",
   "metadata": {},
   "source": [
    "# Final Conclusions\n",
    "Like most data science problems, this work would have undoubtedly benefitted from cleaner (and more) data. While the details provided in the downloaded listings are quite comprehensive,some features, especially 'name',seemed to have too many variations with even the same car model having multiple sub-categories.\n",
    "\n",
    "We utilized several classic and state-of-the-art methods, including\n",
    "ensemble learning techniques, with a 90-10 split on test and training\n",
    "data.\n",
    "\n",
    "\n",
    "\n",
    "| Model             \t| R2 scores for a 90-10 split on Training data \t|\n",
    "|-------------------\t|----------------------------------------------\t|\n",
    "| XgBoost           \t| 0.95                                         \t|\n",
    "| RandomForest      \t| 0.927                                        \t|\n",
    "| Linear Regression \t| 0.60                                         \t|\n",
    "| Gradient Boosting \t| 0.90                                         \t|\n",
    "\n",
    "Although the scores predicted by both **XgBoost** and **Random Forest** seem quite reasonable, ***XgBoost seems to give slightly better results than RandomForest and this is the one we use for the final model.***"
   ]
  }
 ],
 "metadata": {
  "kernelspec": {
   "display_name": "Python 3",
   "language": "python",
   "name": "python3"
  },
  "language_info": {
   "codemirror_mode": {
    "name": "ipython",
    "version": 3
   },
   "file_extension": ".py",
   "mimetype": "text/x-python",
   "name": "python",
   "nbconvert_exporter": "python",
   "pygments_lexer": "ipython3",
   "version": "3.7.6"
  }
 },
 "nbformat": 4,
 "nbformat_minor": 4
}
